{
 "cells": [
  {
   "cell_type": "markdown",
   "id": "cec4a507",
   "metadata": {},
   "source": [
    "# Financial Formulas"
   ]
  },
  {
   "cell_type": "code",
   "execution_count": 1,
   "id": "4317b644",
   "metadata": {},
   "outputs": [],
   "source": [
    "from sympy import *\n",
    "import numpy as np"
   ]
  },
  {
   "cell_type": "markdown",
   "id": "f23ed44f",
   "metadata": {},
   "source": [
    "## Future Value\n",
    "\n",
    "The future value formula is good for evaluating the value of an investment by comparing\n",
    "the current amount vs what it should be in the future.\n",
    "\n",
    "This can also aid in personal spending by reasoning what this money will be worth\n",
    "in the future if I invest it rather than spending it on something now.\n",
    "\n",
    "Used to compute the future value of a present value `PV` invested at a rate of `r`\n",
    "over a number of compounding periods `t`\n",
    "\n",
    "<math xmlns=\"http://www.w3.org/1998/Math/MathML\">\n",
    "  <mstyle displaystyle=\"true\" scriptlevel=\"0\">\n",
    "    <mi>F</mi>\n",
    "    <mi>V</mi>\n",
    "    <mo>=</mo>\n",
    "    <mi>P</mi>\n",
    "    <mi>V</mi>\n",
    "    <msup>\n",
    "      <mrow>\n",
    "        <mo>(</mo>\n",
    "        <mi>r</mi>\n",
    "        <mo>+</mo>\n",
    "        <mn>1</mn>\n",
    "        <mo>)</mo>\n",
    "      </mrow>\n",
    "      <mrow class=\"MJX-TeXAtom-ORD\">\n",
    "        <mi>t</mi>\n",
    "      </mrow>\n",
    "    </msup>\n",
    "  </mstyle>\n",
    "</math>"
   ]
  },
  {
   "cell_type": "code",
   "execution_count": 2,
   "id": "66c37023",
   "metadata": {},
   "outputs": [],
   "source": [
    "FV, PV,r,t = symbols(\"FV PV r t\")"
   ]
  },
  {
   "cell_type": "code",
   "execution_count": 12,
   "id": "0c7a8f5c",
   "metadata": {},
   "outputs": [],
   "source": [
    "future_value_formula = PV*(r+1)**t\n",
    "future_value = lambdify((PV, r, t), future_value_formula)"
   ]
  },
  {
   "cell_type": "markdown",
   "id": "c8fc6afe",
   "metadata": {},
   "source": [
    "**Example**\n",
    "\n",
    "Compute the future value of 100,000 invested at 5% per year for 20 years:"
   ]
  },
  {
   "cell_type": "code",
   "execution_count": 13,
   "id": "e44ddc13",
   "metadata": {},
   "outputs": [
    {
     "data": {
      "text/plain": [
       "265329.77051444224"
      ]
     },
     "execution_count": 13,
     "metadata": {},
     "output_type": "execute_result"
    }
   ],
   "source": [
    "future_value(100_000, .05, 20)"
   ]
  },
  {
   "cell_type": "markdown",
   "id": "ff7c3eae",
   "metadata": {},
   "source": [
    "### Other\n",
    "\n",
    "Future value can have a negative interest rate as well to show\n",
    "how a value decreases over time.\n",
    "\n",
    "**Example\n",
    "\n",
    "What will $10,000 be worth in 5 years given an inflation rate of\n",
    "2% per year?\n"
   ]
  },
  {
   "cell_type": "code",
   "execution_count": 14,
   "id": "ca64885e",
   "metadata": {},
   "outputs": [
    {
     "data": {
      "text/plain": [
       "8170.728068875467"
      ]
     },
     "execution_count": 14,
     "metadata": {},
     "output_type": "execute_result"
    }
   ],
   "source": [
    "future_value(10_000, -.02, 10)"
   ]
  },
  {
   "cell_type": "markdown",
   "id": "fca36a8b",
   "metadata": {},
   "source": [
    "## Time to double\n",
    "How many years would it take an amount to double at a rate of 8% per year?\n",
    "\n",
    "First, we create a formula solving FV for time:"
   ]
  },
  {
   "cell_type": "code",
   "execution_count": 15,
   "id": "9815ac78",
   "metadata": {},
   "outputs": [
    {
     "data": {
      "text/latex": [
       "$\\displaystyle \\frac{\\log{\\left(\\frac{FV}{PV} \\right)}}{\\log{\\left(r + 1 \\right)}}$"
      ],
      "text/plain": [
       "log(FV/PV)/log(r + 1)"
      ]
     },
     "execution_count": 15,
     "metadata": {},
     "output_type": "execute_result"
    }
   ],
   "source": [
    "time_to_increase_formula = solve(Eq(future_value_formula, FV),t)[0]\n",
    "time_to_increase = lambdify((FV,PV, r), time_to_increase_formula)\n",
    "time_to_increase_formula"
   ]
  },
  {
   "cell_type": "markdown",
   "id": "de04f1bd",
   "metadata": {},
   "source": [
    "So, the time to increase to 2 starting from 1 at a rate of 8% would\n",
    "be about 9 years:"
   ]
  },
  {
   "cell_type": "code",
   "execution_count": 16,
   "id": "b1fbc675",
   "metadata": {},
   "outputs": [
    {
     "data": {
      "text/plain": [
       "9.006468342000588"
      ]
     },
     "execution_count": 16,
     "metadata": {},
     "output_type": "execute_result"
    }
   ],
   "source": [
    "time_to_increase(2, 1, .08)"
   ]
  },
  {
   "cell_type": "markdown",
   "id": "c0c0b8be",
   "metadata": {},
   "source": [
    "Of course, checking our math by plugging the values back into the \n",
    "future value formula:"
   ]
  },
  {
   "cell_type": "code",
   "execution_count": 17,
   "id": "3b2c9fb4",
   "metadata": {},
   "outputs": [
    {
     "data": {
      "text/plain": [
       "1.9990046271044333"
      ]
     },
     "execution_count": 17,
     "metadata": {},
     "output_type": "execute_result"
    }
   ],
   "source": [
    "future_value(1, .08, 9)"
   ]
  },
  {
   "cell_type": "markdown",
   "id": "e5b67ea6",
   "metadata": {},
   "source": [
    "## Present Value\n",
    "\n",
    "The current value of a future offering `FV` if it were invested at a rate of `r` per period\n",
    "for `t` periods.\n",
    "\n",
    "**Uses**\n",
    "* Would it be better to receive `x` amount today or `y` amount in 10 years?\n"
   ]
  },
  {
   "cell_type": "code",
   "execution_count": 9,
   "id": "bf79ee4f",
   "metadata": {},
   "outputs": [
    {
     "data": {
      "text/latex": [
       "$\\displaystyle FV \\left(r + 1\\right)^{- t}$"
      ],
      "text/plain": [
       "FV*(r + 1)**(-t)"
      ]
     },
     "execution_count": 9,
     "metadata": {},
     "output_type": "execute_result"
    }
   ],
   "source": [
    "present_value_formula = solve(Eq(FV, future_value_formula), PV)[0]\n",
    "present_value = lambdify((FV, r, t), present_value_formula)\n",
    "present_value_formula"
   ]
  },
  {
   "cell_type": "markdown",
   "id": "99ab23bf",
   "metadata": {},
   "source": [
    "**Example**\n",
    "\n",
    "Would it be better to receive $10,000 today or $15,000 in 10 years\n",
    "if I could get a rate of 5% per year?"
   ]
  },
  {
   "cell_type": "code",
   "execution_count": 10,
   "id": "595b04ee",
   "metadata": {},
   "outputs": [
    {
     "data": {
      "text/plain": [
       "9208.698803111387"
      ]
     },
     "execution_count": 10,
     "metadata": {},
     "output_type": "execute_result"
    }
   ],
   "source": [
    "present_value(15000, .05, 10)"
   ]
  },
  {
   "cell_type": "markdown",
   "id": "396b2a6a",
   "metadata": {},
   "source": [
    "15,000 in 10 years given a rate of 5% per year would have a present\n",
    "value of about $9,200  whih is 800 less than $10,000.   So it would\n",
    "be better to have 10,000 now."
   ]
  }
 ],
 "metadata": {
  "kernelspec": {
   "display_name": "Python 3 (ipykernel)",
   "language": "python",
   "name": "python3"
  },
  "language_info": {
   "codemirror_mode": {
    "name": "ipython",
    "version": 3
   },
   "file_extension": ".py",
   "mimetype": "text/x-python",
   "name": "python",
   "nbconvert_exporter": "python",
   "pygments_lexer": "ipython3",
   "version": "3.9.4"
  }
 },
 "nbformat": 4,
 "nbformat_minor": 5
}
