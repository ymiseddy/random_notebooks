{
 "cells": [
  {
   "cell_type": "markdown",
   "id": "275af81d",
   "metadata": {},
   "source": [
    "# Numpy Field Guide\n",
    "\n",
    "Numpy arrays are fast and powerful.   Try to use these instead of \n",
    "iterating through elements of a Python list whenever applicable since\n",
    "the underlying numpy library is compiled from C and as such is much\n",
    "faster than the interpreted python."
   ]
  },
  {
   "cell_type": "code",
   "execution_count": 2,
   "id": "fd61376e",
   "metadata": {},
   "outputs": [],
   "source": [
    "import numpy as np\n",
    "import matplotlib.pyplot as plt\n",
    "plt.style.use([\"science\", \"notebook\", \"grid\"])"
   ]
  },
  {
   "cell_type": "markdown",
   "id": "945f9da4",
   "metadata": {},
   "source": [
    "## Create a range array\n",
    "\n",
    "Create an array from 0 to `n`:\n",
    "`np.arange(n+1)`"
   ]
  },
  {
   "cell_type": "code",
   "execution_count": 3,
   "id": "11d9ca4b",
   "metadata": {},
   "outputs": [
    {
     "data": {
      "text/plain": [
       "array([ 0,  1,  2,  3,  4,  5,  6,  7,  8,  9, 10, 11, 12, 13, 14])"
      ]
     },
     "execution_count": 3,
     "metadata": {},
     "output_type": "execute_result"
    }
   ],
   "source": [
    "np.arange(15)"
   ]
  },
  {
   "cell_type": "markdown",
   "id": "c2844b5a",
   "metadata": {},
   "source": [
    "Range between two values:"
   ]
  },
  {
   "cell_type": "code",
   "execution_count": 4,
   "id": "4846bd59",
   "metadata": {},
   "outputs": [
    {
     "data": {
      "text/plain": [
       "array([10, 11, 12, 13, 14, 15, 16, 17, 18, 19])"
      ]
     },
     "execution_count": 4,
     "metadata": {},
     "output_type": "execute_result"
    }
   ],
   "source": [
    "np.arange(10,20)"
   ]
  },
  {
   "cell_type": "markdown",
   "id": "98694a3e",
   "metadata": {},
   "source": [
    "Array of zeroes:"
   ]
  },
  {
   "cell_type": "code",
   "execution_count": 5,
   "id": "dedca549",
   "metadata": {},
   "outputs": [
    {
     "data": {
      "text/plain": [
       "array([0., 0., 0., 0., 0., 0., 0., 0., 0., 0.])"
      ]
     },
     "execution_count": 5,
     "metadata": {},
     "output_type": "execute_result"
    }
   ],
   "source": [
    "np.zeros(10)"
   ]
  },
  {
   "cell_type": "markdown",
   "id": "bd3ebd6d",
   "metadata": {},
   "source": [
    "Multi dimensional array (5x5):"
   ]
  },
  {
   "cell_type": "code",
   "execution_count": 6,
   "id": "ff84bbb9",
   "metadata": {},
   "outputs": [
    {
     "data": {
      "text/plain": [
       "array([[0., 0., 0., 0., 0.],\n",
       "       [0., 0., 0., 0., 0.],\n",
       "       [0., 0., 0., 0., 0.],\n",
       "       [0., 0., 0., 0., 0.],\n",
       "       [0., 0., 0., 0., 0.]])"
      ]
     },
     "execution_count": 6,
     "metadata": {},
     "output_type": "execute_result"
    }
   ],
   "source": [
    "np.zeros((5,5))"
   ]
  },
  {
   "cell_type": "markdown",
   "id": "7f35e00d",
   "metadata": {},
   "source": [
    "In general:\n",
    "`np.zeros((rows, columns))`"
   ]
  },
  {
   "cell_type": "code",
   "execution_count": 7,
   "id": "bdba7d66",
   "metadata": {},
   "outputs": [
    {
     "data": {
      "text/plain": [
       "array([[0., 0.],\n",
       "       [0., 0.],\n",
       "       [0., 0.]])"
      ]
     },
     "execution_count": 7,
     "metadata": {},
     "output_type": "execute_result"
    }
   ],
   "source": [
    "rows = 3\n",
    "columns = 2\n",
    "np.zeros((rows, columns))"
   ]
  },
  {
   "cell_type": "markdown",
   "id": "ae4de042",
   "metadata": {},
   "source": [
    "Using `linspace` can be useful for the inputs to graphs.  It can generate\n",
    "a range of `count` between `min` and `max` inclusive:"
   ]
  },
  {
   "cell_type": "code",
   "execution_count": 8,
   "id": "434facf2",
   "metadata": {},
   "outputs": [
    {
     "data": {
      "text/plain": [
       "array([ 0.        ,  0.1010101 ,  0.2020202 ,  0.3030303 ,  0.4040404 ,\n",
       "        0.50505051,  0.60606061,  0.70707071,  0.80808081,  0.90909091,\n",
       "        1.01010101,  1.11111111,  1.21212121,  1.31313131,  1.41414141,\n",
       "        1.51515152,  1.61616162,  1.71717172,  1.81818182,  1.91919192,\n",
       "        2.02020202,  2.12121212,  2.22222222,  2.32323232,  2.42424242,\n",
       "        2.52525253,  2.62626263,  2.72727273,  2.82828283,  2.92929293,\n",
       "        3.03030303,  3.13131313,  3.23232323,  3.33333333,  3.43434343,\n",
       "        3.53535354,  3.63636364,  3.73737374,  3.83838384,  3.93939394,\n",
       "        4.04040404,  4.14141414,  4.24242424,  4.34343434,  4.44444444,\n",
       "        4.54545455,  4.64646465,  4.74747475,  4.84848485,  4.94949495,\n",
       "        5.05050505,  5.15151515,  5.25252525,  5.35353535,  5.45454545,\n",
       "        5.55555556,  5.65656566,  5.75757576,  5.85858586,  5.95959596,\n",
       "        6.06060606,  6.16161616,  6.26262626,  6.36363636,  6.46464646,\n",
       "        6.56565657,  6.66666667,  6.76767677,  6.86868687,  6.96969697,\n",
       "        7.07070707,  7.17171717,  7.27272727,  7.37373737,  7.47474747,\n",
       "        7.57575758,  7.67676768,  7.77777778,  7.87878788,  7.97979798,\n",
       "        8.08080808,  8.18181818,  8.28282828,  8.38383838,  8.48484848,\n",
       "        8.58585859,  8.68686869,  8.78787879,  8.88888889,  8.98989899,\n",
       "        9.09090909,  9.19191919,  9.29292929,  9.39393939,  9.49494949,\n",
       "        9.5959596 ,  9.6969697 ,  9.7979798 ,  9.8989899 , 10.        ])"
      ]
     },
     "execution_count": 8,
     "metadata": {},
     "output_type": "execute_result"
    }
   ],
   "source": [
    "min = 0\n",
    "max = 10\n",
    "count = 100\n",
    "np.linspace(min, max, count)"
   ]
  },
  {
   "cell_type": "markdown",
   "id": "f1e6e976",
   "metadata": {},
   "source": [
    "## Indexing"
   ]
  },
  {
   "cell_type": "code",
   "execution_count": 9,
   "id": "90d9c2e7",
   "metadata": {},
   "outputs": [],
   "source": [
    "arr = np.arange(1, 11)"
   ]
  },
  {
   "cell_type": "markdown",
   "id": "a16927f2",
   "metadata": {},
   "source": [
    "First element:"
   ]
  },
  {
   "cell_type": "code",
   "execution_count": 10,
   "id": "53dfc621",
   "metadata": {},
   "outputs": [
    {
     "data": {
      "text/plain": [
       "1"
      ]
     },
     "execution_count": 10,
     "metadata": {},
     "output_type": "execute_result"
    }
   ],
   "source": [
    "arr[0]"
   ]
  },
  {
   "cell_type": "markdown",
   "id": "38dd6cab",
   "metadata": {},
   "source": [
    "Last Element"
   ]
  },
  {
   "cell_type": "code",
   "execution_count": 11,
   "id": "ce13ef1f",
   "metadata": {},
   "outputs": [
    {
     "data": {
      "text/plain": [
       "10"
      ]
     },
     "execution_count": 11,
     "metadata": {},
     "output_type": "execute_result"
    }
   ],
   "source": [
    "arr[-1]"
   ]
  },
  {
   "cell_type": "markdown",
   "id": "29f2b640",
   "metadata": {},
   "source": [
    "First 3 elements:"
   ]
  },
  {
   "cell_type": "code",
   "execution_count": 12,
   "id": "720c5adc",
   "metadata": {},
   "outputs": [
    {
     "data": {
      "text/plain": [
       "array([1, 2, 3])"
      ]
     },
     "execution_count": 12,
     "metadata": {},
     "output_type": "execute_result"
    }
   ],
   "source": [
    "arr[0:3]"
   ]
  },
  {
   "cell_type": "markdown",
   "id": "d6b00b90",
   "metadata": {},
   "source": [
    "All but last:"
   ]
  },
  {
   "cell_type": "code",
   "execution_count": 13,
   "id": "b44870ff",
   "metadata": {},
   "outputs": [
    {
     "data": {
      "text/plain": [
       "array([1, 2, 3, 4, 5, 6, 7, 8, 9])"
      ]
     },
     "execution_count": 13,
     "metadata": {},
     "output_type": "execute_result"
    }
   ],
   "source": [
    "arr[:-1]"
   ]
  },
  {
   "cell_type": "markdown",
   "id": "541fb00d",
   "metadata": {},
   "source": [
    "All but first"
   ]
  },
  {
   "cell_type": "code",
   "execution_count": 14,
   "id": "5fd772ff",
   "metadata": {},
   "outputs": [
    {
     "data": {
      "text/plain": [
       "array([ 2,  3,  4,  5,  6,  7,  8,  9, 10])"
      ]
     },
     "execution_count": 14,
     "metadata": {},
     "output_type": "execute_result"
    }
   ],
   "source": [
    "arr[1:]"
   ]
  },
  {
   "cell_type": "markdown",
   "id": "15465ea2",
   "metadata": {},
   "source": [
    "Second thrrough seventh element:"
   ]
  },
  {
   "cell_type": "code",
   "execution_count": 15,
   "id": "b9779d46",
   "metadata": {},
   "outputs": [
    {
     "data": {
      "text/plain": [
       "array([2, 3, 4, 5, 6, 7])"
      ]
     },
     "execution_count": 15,
     "metadata": {},
     "output_type": "execute_result"
    }
   ],
   "source": [
    "arr[1:7]"
   ]
  },
  {
   "cell_type": "markdown",
   "id": "702bb8e3",
   "metadata": {},
   "source": [
    "Perform math on the entire array at once:"
   ]
  },
  {
   "cell_type": "code",
   "execution_count": 16,
   "id": "b84ab33f",
   "metadata": {},
   "outputs": [
    {
     "data": {
      "text/plain": [
       "array([ 2,  3,  4,  5,  6,  7,  8,  9, 10, 11])"
      ]
     },
     "execution_count": 16,
     "metadata": {},
     "output_type": "execute_result"
    }
   ],
   "source": [
    "arr + 1"
   ]
  },
  {
   "cell_type": "code",
   "execution_count": 17,
   "id": "9b1d41d9",
   "metadata": {},
   "outputs": [
    {
     "data": {
      "text/plain": [
       "array([0, 1, 2, 3, 4, 5, 6, 7, 8, 9])"
      ]
     },
     "execution_count": 17,
     "metadata": {},
     "output_type": "execute_result"
    }
   ],
   "source": [
    "arr-1"
   ]
  },
  {
   "cell_type": "code",
   "execution_count": 18,
   "id": "99211c00",
   "metadata": {},
   "outputs": [
    {
     "data": {
      "text/plain": [
       "array([  1,   4,   9,  16,  25,  36,  49,  64,  81, 100], dtype=int32)"
      ]
     },
     "execution_count": 18,
     "metadata": {},
     "output_type": "execute_result"
    }
   ],
   "source": [
    "arr**2"
   ]
  },
  {
   "cell_type": "code",
   "execution_count": 19,
   "id": "4ae81383",
   "metadata": {},
   "outputs": [
    {
     "data": {
      "text/plain": [
       "array([1.        , 1.41421356, 1.73205081, 2.        , 2.23606798,\n",
       "       2.44948974, 2.64575131, 2.82842712, 3.        , 3.16227766])"
      ]
     },
     "execution_count": 19,
     "metadata": {},
     "output_type": "execute_result"
    }
   ],
   "source": [
    "np.sqrt(arr)"
   ]
  },
  {
   "cell_type": "markdown",
   "id": "8f75c5b6",
   "metadata": {},
   "source": [
    "Element wise math between two arrays:"
   ]
  },
  {
   "cell_type": "code",
   "execution_count": 20,
   "id": "2a50aff6",
   "metadata": {},
   "outputs": [],
   "source": [
    "arr2 = np.arange(2, 12)"
   ]
  },
  {
   "cell_type": "code",
   "execution_count": 21,
   "id": "19d39e99",
   "metadata": {},
   "outputs": [
    {
     "data": {
      "text/plain": [
       "array([1, 1, 1, 1, 1, 1, 1, 1, 1, 1])"
      ]
     },
     "execution_count": 21,
     "metadata": {},
     "output_type": "execute_result"
    }
   ],
   "source": [
    "arr2 - arr"
   ]
  },
  {
   "cell_type": "code",
   "execution_count": 22,
   "id": "3dbc59be",
   "metadata": {},
   "outputs": [
    {
     "data": {
      "text/plain": [
       "array([-1, -1, -1, -1, -1, -1, -1, -1, -1, -1])"
      ]
     },
     "execution_count": 22,
     "metadata": {},
     "output_type": "execute_result"
    }
   ],
   "source": [
    "arr - arr2"
   ]
  },
  {
   "cell_type": "code",
   "execution_count": 23,
   "id": "0ae13ee1",
   "metadata": {},
   "outputs": [
    {
     "data": {
      "text/plain": [
       "array([ 3,  5,  7,  9, 11, 13, 15, 17, 19, 21])"
      ]
     },
     "execution_count": 23,
     "metadata": {},
     "output_type": "execute_result"
    }
   ],
   "source": [
    "arr + arr2"
   ]
  },
  {
   "cell_type": "markdown",
   "id": "8dbeae81",
   "metadata": {},
   "source": [
    "## Random Numbers\n",
    "\n",
    "By default Numpy's `random.rand(n)` generates an array of number uniformly distributed\n",
    "between 0 and 1:"
   ]
  },
  {
   "cell_type": "code",
   "execution_count": 24,
   "id": "788894d0",
   "metadata": {},
   "outputs": [
    {
     "data": {
      "text/plain": [
       "array([0.26870117, 0.19254137, 0.31455734, 0.82478744, 0.65061697,\n",
       "       0.60170482, 0.67618373, 0.83055137, 0.7169536 , 0.63497865])"
      ]
     },
     "execution_count": 24,
     "metadata": {},
     "output_type": "execute_result"
    }
   ],
   "source": [
    "np.random.rand(10)"
   ]
  },
  {
   "cell_type": "code",
   "execution_count": 25,
   "id": "989f46cd",
   "metadata": {},
   "outputs": [
    {
     "data": {
      "text/plain": [
       "array([[0.91207916, 0.60293211, 0.43309438],\n",
       "       [0.07939955, 0.55555404, 0.32036397]])"
      ]
     },
     "execution_count": 25,
     "metadata": {},
     "output_type": "execute_result"
    }
   ],
   "source": [
    "np.random.rand(2,3)"
   ]
  },
  {
   "cell_type": "markdown",
   "id": "87c39fd7",
   "metadata": {},
   "source": [
    "Generating normally distributed random numbers.   By default, these\n",
    "will generate numbers with a mean of 0 and a standard deviation of 1\n",
    "(note: the size of the array is specified by `size` keyword argument:"
   ]
  },
  {
   "cell_type": "code",
   "execution_count": 26,
   "id": "82322ac2",
   "metadata": {},
   "outputs": [
    {
     "data": {
      "text/plain": [
       "array([-0.36779488,  0.14159221,  0.87872047, -0.37016574, -2.1490103 ,\n",
       "       -1.19412833,  1.19178611, -1.91702303, -0.90001606, -0.07760967,\n",
       "        2.11760543, -0.25130525,  1.33298358, -0.76851624, -1.56297571,\n",
       "       -0.78239638, -0.41746316,  0.75350787, -0.15554023,  0.08010417])"
      ]
     },
     "execution_count": 26,
     "metadata": {},
     "output_type": "execute_result"
    }
   ],
   "source": [
    "np.random.normal(size=20)"
   ]
  },
  {
   "cell_type": "markdown",
   "id": "db0cf520",
   "metadata": {},
   "source": [
    "Multidimensional arrays can be genrated as well:"
   ]
  },
  {
   "cell_type": "code",
   "execution_count": 27,
   "id": "4d190aca",
   "metadata": {},
   "outputs": [
    {
     "data": {
      "text/plain": [
       "array([[-0.63589603, -1.73077091,  1.2277913 ],\n",
       "       [ 0.73522571, -0.18944469, -1.53749526],\n",
       "       [ 0.94636302, -0.86609144,  0.65487499],\n",
       "       [ 1.93672428,  1.40915038, -0.28925677],\n",
       "       [ 0.54741147, -1.40416939,  0.90229917],\n",
       "       [ 0.49631009,  0.3135902 ,  0.84920986],\n",
       "       [ 0.83903348,  0.41585438, -0.4561915 ],\n",
       "       [ 0.94153964, -0.78412908,  0.28417635],\n",
       "       [-0.62972796, -1.14903997,  1.63511177],\n",
       "       [ 1.45051425,  0.42232219,  0.05019026],\n",
       "       [ 0.08983907,  0.0399961 ,  1.22449763],\n",
       "       [-0.83302909, -1.35125336, -0.34461285],\n",
       "       [-0.05304071,  0.89237613, -0.51239211],\n",
       "       [-1.64576131,  0.26411576,  1.73790831],\n",
       "       [ 1.14942544, -0.4224692 , -0.72750219],\n",
       "       [-0.05275132, -0.95562238,  3.32054513],\n",
       "       [ 0.18098708,  0.21111412,  1.01416216],\n",
       "       [-0.53975263, -0.26522649,  0.85413691],\n",
       "       [ 0.94607025,  0.1956003 , -0.84676979],\n",
       "       [ 1.44692057, -1.96674295,  0.72607789]])"
      ]
     },
     "execution_count": 27,
     "metadata": {},
     "output_type": "execute_result"
    }
   ],
   "source": [
    "np.random.normal(size=(20, 3))"
   ]
  },
  {
   "cell_type": "markdown",
   "id": "384ffb1e",
   "metadata": {},
   "source": [
    "To generate numbers with a specific center (mean) and spread (standard deviation), use \n",
    "`loc` to set the mean and `scale` to set the standard deviation."
   ]
  },
  {
   "cell_type": "code",
   "execution_count": 28,
   "id": "b1b50172",
   "metadata": {},
   "outputs": [],
   "source": [
    "norm = np.random.normal(loc=10, scale=3, size=500)"
   ]
  },
  {
   "cell_type": "code",
   "execution_count": 29,
   "id": "79ff0da0",
   "metadata": {
    "scrolled": true
   },
   "outputs": [
    {
     "data": {
      "text/plain": [
       "(array([  5.,  12.,  39.,  82., 107.,  94.,  88.,  45.,  22.,   6.]),\n",
       " array([ 1.38548417,  3.04906881,  4.71265344,  6.37623808,  8.03982271,\n",
       "         9.70340735, 11.36699198, 13.03057662, 14.69416125, 16.35774589,\n",
       "        18.02133052]),\n",
       " <BarContainer object of 10 artists>)"
      ]
     },
     "execution_count": 29,
     "metadata": {},
     "output_type": "execute_result"
    },
    {
     "data": {
      "image/png": "[encoded data removed]",
      "text/plain": [
       "<Figure size 576x432 with 1 Axes>"
      ]
     },
     "metadata": {
      "needs_background": "light"
     },
     "output_type": "display_data"
    }
   ],
   "source": [
    "plt.hist(norm, bins=10)"
   ]
  },
  {
   "cell_type": "code",
   "execution_count": null,
   "id": "cd13f95b",
   "metadata": {},
   "outputs": [],
   "source": []
  },
  {
   "cell_type": "markdown",
   "id": "f18465c8",
   "metadata": {},
   "source": [
    "### Conditionals with indexing\n",
    "\n",
    "Calling a comparison will return a list of boolean where `True` is the value at that\n",
    "index meets that condition; `False` if not:"
   ]
  },
  {
   "cell_type": "code",
   "execution_count": 37,
   "id": "0191fac8",
   "metadata": {},
   "outputs": [
    {
     "data": {
      "text/plain": [
       "array([False, False,  True, False, False, False,  True,  True,  True,\n",
       "        True,  True,  True, False, False, False,  True, False,  True,\n",
       "       False, False, False,  True, False,  True,  True, False,  True,\n",
       "        True, False,  True,  True, False, False, False,  True, False,\n",
       "        True,  True,  True, False, False,  True,  True,  True,  True,\n",
       "        True,  True,  True,  True, False,  True, False,  True,  True,\n",
       "       False, False, False,  True,  True,  True,  True, False, False,\n",
       "       False,  True,  True,  True,  True, False,  True, False,  True,\n",
       "       False, False,  True, False,  True, False,  True, False, False,\n",
       "       False,  True, False, False, False,  True, False, False, False,\n",
       "        True,  True,  True,  True,  True, False,  True,  True,  True,\n",
       "        True, False, False,  True,  True,  True, False, False,  True,\n",
       "       False, False,  True,  True,  True, False, False, False,  True,\n",
       "        True,  True,  True, False, False, False, False, False,  True,\n",
       "       False, False, False, False,  True,  True, False,  True,  True,\n",
       "       False, False, False, False,  True, False,  True,  True,  True,\n",
       "        True, False, False,  True, False,  True, False, False,  True,\n",
       "        True,  True, False,  True, False, False,  True, False, False,\n",
       "        True, False,  True, False, False,  True, False, False,  True,\n",
       "       False,  True,  True, False, False, False, False,  True, False,\n",
       "        True,  True, False,  True, False,  True, False, False, False,\n",
       "        True,  True, False,  True, False,  True,  True, False, False,\n",
       "       False, False,  True,  True, False, False,  True,  True,  True,\n",
       "        True,  True, False,  True,  True, False, False,  True,  True,\n",
       "       False, False,  True,  True,  True,  True, False, False, False,\n",
       "        True, False, False,  True,  True, False,  True,  True,  True,\n",
       "        True, False, False,  True,  True,  True, False, False, False,\n",
       "       False, False,  True, False, False, False,  True, False,  True,\n",
       "       False,  True, False,  True,  True,  True, False, False, False,\n",
       "        True, False,  True,  True,  True, False, False,  True,  True,\n",
       "        True, False,  True, False,  True,  True, False,  True, False,\n",
       "       False, False,  True, False, False,  True,  True,  True, False,\n",
       "       False, False,  True,  True,  True,  True,  True, False,  True,\n",
       "       False, False, False,  True, False,  True,  True, False, False,\n",
       "        True, False,  True, False,  True, False, False, False,  True,\n",
       "        True,  True,  True,  True,  True, False, False,  True,  True,\n",
       "        True,  True, False,  True,  True, False,  True, False,  True,\n",
       "       False, False, False,  True, False, False,  True,  True,  True,\n",
       "        True,  True,  True, False, False,  True,  True, False, False,\n",
       "       False, False, False,  True, False,  True,  True,  True, False,\n",
       "       False,  True, False,  True, False,  True, False, False, False,\n",
       "       False,  True,  True,  True,  True,  True, False,  True, False,\n",
       "       False, False,  True,  True, False, False,  True, False,  True,\n",
       "       False, False,  True, False, False,  True, False,  True,  True,\n",
       "       False, False,  True, False,  True, False, False, False,  True,\n",
       "       False, False,  True,  True, False, False, False,  True, False,\n",
       "        True,  True, False, False,  True,  True,  True,  True,  True,\n",
       "        True,  True, False,  True,  True, False,  True,  True,  True,\n",
       "        True,  True,  True,  True,  True,  True,  True, False, False,\n",
       "       False,  True,  True, False,  True, False,  True,  True,  True,\n",
       "        True,  True,  True,  True, False, False, False, False, False,\n",
       "        True,  True,  True,  True, False,  True, False, False,  True,\n",
       "       False,  True, False, False, False,  True, False,  True, False,\n",
       "       False,  True, False,  True, False, False, False,  True,  True,\n",
       "       False, False, False,  True, False,  True,  True,  True, False,\n",
       "       False, False,  True, False,  True])"
      ]
     },
     "execution_count": 37,
     "metadata": {},
     "output_type": "execute_result"
    }
   ],
   "source": [
    "norm < 10"
   ]
  },
  {
   "cell_type": "markdown",
   "id": "ec7163fe",
   "metadata": {},
   "source": [
    "This can be used to return an array of values which match that condition:"
   ]
  },
  {
   "cell_type": "code",
   "execution_count": 38,
   "id": "e391361b",
   "metadata": {},
   "outputs": [
    {
     "data": {
      "text/plain": [
       "array([8.41569531, 5.29109786, 9.56895115, 6.70974583, 9.21757884,\n",
       "       8.78420466, 8.07276898, 6.58394577, 7.27254363, 5.37905598,\n",
       "       8.96143491, 5.06088595, 9.34184589, 8.13441707, 9.15523645,\n",
       "       8.94659481, 7.14510685, 4.84176529, 9.01714942, 7.69747454,\n",
       "       5.53809812, 7.39711083, 9.43964864, 9.42057505, 4.40745686,\n",
       "       7.36389921, 5.74683494, 9.14767738, 4.37459941, 6.80506414,\n",
       "       6.05430244, 8.47453519, 7.10679532, 7.69005951, 6.32746038,\n",
       "       6.27563962, 9.75515921, 6.46732382, 7.60768035, 4.8747012 ,\n",
       "       9.00680753, 9.88185409, 9.15825841, 4.74518272, 3.1375784 ,\n",
       "       8.73870583, 7.86444497, 8.07045715, 7.10821606, 8.79620246,\n",
       "       8.72614698, 9.67723712, 9.59679722, 8.84670058, 7.92181536,\n",
       "       9.34878096, 8.74427777, 2.62532391, 3.5504776 , 9.49895748,\n",
       "       7.25982678, 9.45204661, 6.74198895, 6.65194183, 9.40677037,\n",
       "       8.37545402, 7.57500214, 8.17056401, 5.5669293 , 9.62450798,\n",
       "       6.38191869, 6.88090993, 4.86963487, 4.5444276 , 9.6848915 ,\n",
       "       6.35284941, 8.80745745, 6.04203347, 7.86280798, 8.18704027,\n",
       "       9.7475481 , 7.75346992, 9.59266695, 7.49699574, 8.60004297,\n",
       "       9.88965904, 7.53883065, 9.06810737, 8.56977408, 8.50793201,\n",
       "       9.41358343, 7.40454964, 9.52377257, 6.23351429, 9.24624724,\n",
       "       7.57120673, 8.13132251, 6.96342863, 7.35977672, 9.19843227,\n",
       "       9.56344363, 8.97774887, 9.49861021, 5.28911976, 8.09599251,\n",
       "       9.36000369, 8.47439786, 9.16118145, 7.18118145, 8.64654742,\n",
       "       9.62213305, 8.74630106, 9.29102415, 9.94780832, 6.48965555,\n",
       "       6.8981655 , 7.45673054, 4.06225419, 6.35961633, 8.56781571,\n",
       "       7.37601242, 6.99710887, 7.39461374, 9.92841167, 6.8023762 ,\n",
       "       6.81395958, 7.52711579, 8.86916219, 7.83266064, 9.85834061,\n",
       "       9.62092244, 5.63132761, 4.14488   , 9.30896591, 8.30904232,\n",
       "       7.74575911, 6.90812985, 8.01418132, 7.03844872, 9.01623057,\n",
       "       9.94606511, 8.85103904, 9.22820499, 6.92585056, 8.87482043,\n",
       "       8.45278475, 5.99371975, 8.72620829, 7.17662183, 9.52448402,\n",
       "       9.9434227 , 7.37141217, 7.80373428, 9.55707266, 8.28412105,\n",
       "       9.22947239, 6.19880343, 6.93418526, 5.97807335, 7.84529494,\n",
       "       6.16201146, 5.60499443, 7.63028426, 7.79588642, 8.78114629,\n",
       "       9.60983471, 7.87669501, 9.10086025, 7.78831504, 9.72844521,\n",
       "       7.53470583, 7.9594979 , 9.1332397 , 8.80858907, 7.63634528,\n",
       "       5.12852216, 7.91197446, 8.51146611, 9.64626431, 9.56945908,\n",
       "       8.24951892, 9.43693766, 8.78017284, 5.76177935, 9.62916374,\n",
       "       9.43891542, 4.03539364, 7.48647035, 6.51330563, 6.60392357,\n",
       "       7.54134715, 5.17201843, 5.66269106, 7.32067872, 8.48569409,\n",
       "       7.50426254, 5.56076403, 8.37856894, 7.98924208, 7.94509767,\n",
       "       4.93298495, 8.14623519, 9.61495467, 7.14054058, 6.73664113,\n",
       "       4.65342117, 4.97715508, 8.11242619, 9.72730507, 5.05277731,\n",
       "       6.43576758, 8.7041578 , 5.79775401, 4.60798564, 9.3082471 ,\n",
       "       8.08025582, 4.79284449, 8.98019962, 8.79011725, 6.61917789,\n",
       "       7.87695474, 4.58544378, 5.54722036, 7.73818556, 7.52118686,\n",
       "       7.84292817, 2.92116674, 9.60585875, 8.75031499, 8.25531014,\n",
       "       8.4395934 , 9.01490519, 5.95397123, 9.94569305, 1.38548417,\n",
       "       8.3927004 , 8.16492874, 9.84607894, 2.49918651, 7.3718083 ,\n",
       "       8.17508982, 7.16402211, 6.33460875, 7.62487462, 6.90533053,\n",
       "       5.69984426, 6.00703096, 9.23922943, 9.11252669, 7.25394117,\n",
       "       2.68923645, 7.52341563, 8.96887686, 8.63713129, 6.74854858,\n",
       "       7.45463983, 8.87057093, 3.85934956])"
      ]
     },
     "execution_count": 38,
     "metadata": {},
     "output_type": "execute_result"
    }
   ],
   "source": [
    "norm[norm<10]"
   ]
  },
  {
   "cell_type": "code",
   "execution_count": 41,
   "id": "ce2f386e",
   "metadata": {},
   "outputs": [
    {
     "data": {
      "text/plain": [
       "(array([ 1.,  4.,  3., 11., 19., 23., 36., 53., 49., 59.]),\n",
       " array([1.38548417, 2.24171659, 3.097949  , 3.95418142, 4.81041383,\n",
       "        5.66664625, 6.52287866, 7.37911108, 8.23534349, 9.09157591,\n",
       "        9.94780832]),\n",
       " <BarContainer object of 10 artists>)"
      ]
     },
     "execution_count": 41,
     "metadata": {},
     "output_type": "execute_result"
    },
    {
     "data": {
      "image/png": "[encoded data removed]",
      "text/plain": [
       "<Figure size 576x432 with 1 Axes>"
      ]
     },
     "metadata": {
      "needs_background": "light"
     },
     "output_type": "display_data"
    }
   ],
   "source": [
    "plt.hist(norm[norm<10], bins=10)"
   ]
  },
  {
   "cell_type": "code",
   "execution_count": 45,
   "id": "26eb7eb8",
   "metadata": {},
   "outputs": [
    {
     "data": {
      "text/plain": [
       "(array([ 5., 12., 39., 81.,  0., 20., 88., 45., 22.,  6.]),\n",
       " array([ 1.38548417,  3.04906881,  4.71265344,  6.37623808,  8.03982271,\n",
       "         9.70340735, 11.36699198, 13.03057662, 14.69416125, 16.35774589,\n",
       "        18.02133052]),\n",
       " <BarContainer object of 10 artists>)"
      ]
     },
     "execution_count": 45,
     "metadata": {},
     "output_type": "execute_result"
    },
    {
     "data": {
      "image/png": "[encoded data removed]",
      "text/plain": [
       "<Figure size 576x432 with 1 Axes>"
      ]
     },
     "metadata": {
      "needs_background": "light"
     },
     "output_type": "display_data"
    }
   ],
   "source": [
    "plt.hist(norm[(norm < 8) | (norm > 11)], bins=10)"
   ]
  },
  {
   "cell_type": "markdown",
   "id": "5cccb5ef",
   "metadata": {},
   "source": [
    "## Plotting Functions\n",
    "\n",
    "Use `np.linspace` to generate a number of points in the range of your function.\n",
    "Then you can generate y axis points by calling the function on this space:"
   ]
  },
  {
   "cell_type": "code",
   "execution_count": 50,
   "id": "55183259",
   "metadata": {},
   "outputs": [],
   "source": [
    "x = np.linspace(-2*np.pi, 2*np.pi, 200)\n",
    "sin_x = np.sin(x)\n",
    "cos_x = np.cos(x)"
   ]
  },
  {
   "cell_type": "code",
   "execution_count": 51,
   "id": "61a1ec0d",
   "metadata": {},
   "outputs": [
    {
     "data": {
      "text/plain": [
       "[<matplotlib.lines.Line2D at 0x182329a0040>]"
      ]
     },
     "execution_count": 51,
     "metadata": {},
     "output_type": "execute_result"
    },
    {
     "data": {
      "image/png": "[encoded data removed]",
      "text/plain": [
       "<Figure size 576x432 with 1 Axes>"
      ]
     },
     "metadata": {
      "needs_background": "light"
     },
     "output_type": "display_data"
    }
   ],
   "source": [
    "plt.plot(x, sin_x)\n",
    "plt.plot(x, cos_x)"
   ]
  },
  {
   "cell_type": "code",
   "execution_count": null,
   "id": "34ac9ccb",
   "metadata": {},
   "outputs": [],
   "source": []
  },
  {
   "cell_type": "code",
   "execution_count": null,
   "id": "74eed3dd",
   "metadata": {},
   "outputs": [],
   "source": []
  }
 ],
 "metadata": {
  "kernelspec": {
   "display_name": "Python 3",
   "language": "python",
   "name": "python3"
  },
  "language_info": {
   "codemirror_mode": {
    "name": "ipython",
    "version": 3
   },
   "file_extension": ".py",
   "mimetype": "text/x-python",
   "name": "python",
   "nbconvert_exporter": "python",
   "pygments_lexer": "ipython3",
   "version": "3.9.4"
  }
 },
 "nbformat": 4,
 "nbformat_minor": 5
}
