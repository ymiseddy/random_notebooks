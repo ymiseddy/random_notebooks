{
 "cells": [
  {
   "cell_type": "markdown",
   "id": "275af81d",
   "metadata": {},
   "source": [
    "# Numpy Field Guide\n",
    "\n",
    "Numpy arrays are fast and powerful.   Try to use these instead of \n",
    "iterating through elements of a Python list whenever applicable since\n",
    "the underlying numpy library is compiled from C and as such is much\n",
    "faster than the interpreted python."
   ]
  },
  {
   "cell_type": "code",
   "execution_count": 1,
   "id": "fd61376e",
   "metadata": {},
   "outputs": [],
   "source": [
    "import numpy as np\n",
    "import matplotlib"
   ]
  },
  {
   "cell_type": "markdown",
   "id": "945f9da4",
   "metadata": {},
   "source": [
    "## Create a range array\n",
    "\n",
    "Create an array from 0 to `n`:\n",
    "`np.arange(n+1)`"
   ]
  },
  {
   "cell_type": "code",
   "execution_count": 4,
   "id": "11d9ca4b",
   "metadata": {},
   "outputs": [
    {
     "data": {
      "text/plain": [
       "array([ 0,  1,  2,  3,  4,  5,  6,  7,  8,  9, 10, 11, 12, 13, 14])"
      ]
     },
     "execution_count": 4,
     "metadata": {},
     "output_type": "execute_result"
    }
   ],
   "source": [
    "np.arange(15)"
   ]
  },
  {
   "cell_type": "markdown",
   "id": "c2844b5a",
   "metadata": {},
   "source": [
    "Range between two values:"
   ]
  },
  {
   "cell_type": "code",
   "execution_count": 5,
   "id": "4846bd59",
   "metadata": {},
   "outputs": [
    {
     "data": {
      "text/plain": [
       "array([10, 11, 12, 13, 14, 15, 16, 17, 18, 19])"
      ]
     },
     "execution_count": 5,
     "metadata": {},
     "output_type": "execute_result"
    }
   ],
   "source": [
    "np.arange(10,20)"
   ]
  },
  {
   "cell_type": "markdown",
   "id": "98694a3e",
   "metadata": {},
   "source": [
    "Array of zeroes:"
   ]
  },
  {
   "cell_type": "code",
   "execution_count": 7,
   "id": "dedca549",
   "metadata": {},
   "outputs": [
    {
     "data": {
      "text/plain": [
       "array([0., 0., 0., 0., 0., 0., 0., 0., 0., 0.])"
      ]
     },
     "execution_count": 7,
     "metadata": {},
     "output_type": "execute_result"
    }
   ],
   "source": [
    "np.zeros(10)"
   ]
  },
  {
   "cell_type": "markdown",
   "id": "bd3ebd6d",
   "metadata": {},
   "source": [
    "Multi dimensional array (5x5):"
   ]
  },
  {
   "cell_type": "code",
   "execution_count": 8,
   "id": "ff84bbb9",
   "metadata": {},
   "outputs": [
    {
     "data": {
      "text/plain": [
       "array([[0., 0., 0., 0., 0.],\n",
       "       [0., 0., 0., 0., 0.],\n",
       "       [0., 0., 0., 0., 0.],\n",
       "       [0., 0., 0., 0., 0.],\n",
       "       [0., 0., 0., 0., 0.]])"
      ]
     },
     "execution_count": 8,
     "metadata": {},
     "output_type": "execute_result"
    }
   ],
   "source": [
    "np.zeros((5,5))"
   ]
  },
  {
   "cell_type": "markdown",
   "id": "7f35e00d",
   "metadata": {},
   "source": [
    "In general:\n",
    "`np.zeros((rows, columns))`"
   ]
  },
  {
   "cell_type": "code",
   "execution_count": 11,
   "id": "bdba7d66",
   "metadata": {},
   "outputs": [
    {
     "data": {
      "text/plain": [
       "array([[0., 0.],\n",
       "       [0., 0.],\n",
       "       [0., 0.]])"
      ]
     },
     "execution_count": 11,
     "metadata": {},
     "output_type": "execute_result"
    }
   ],
   "source": [
    "rows = 3\n",
    "columns = 2\n",
    "np.zeros((rows, columns))"
   ]
  },
  {
   "cell_type": "markdown",
   "id": "ae4de042",
   "metadata": {},
   "source": [
    "Using `linspace` can be useful for the inputs to graphs.  It can generate\n",
    "a range of `count` between `min` and `max` inclusive:"
   ]
  },
  {
   "cell_type": "code",
   "execution_count": 14,
   "id": "434facf2",
   "metadata": {},
   "outputs": [
    {
     "data": {
      "text/plain": [
       "array([ 0.        ,  0.1010101 ,  0.2020202 ,  0.3030303 ,  0.4040404 ,\n",
       "        0.50505051,  0.60606061,  0.70707071,  0.80808081,  0.90909091,\n",
       "        1.01010101,  1.11111111,  1.21212121,  1.31313131,  1.41414141,\n",
       "        1.51515152,  1.61616162,  1.71717172,  1.81818182,  1.91919192,\n",
       "        2.02020202,  2.12121212,  2.22222222,  2.32323232,  2.42424242,\n",
       "        2.52525253,  2.62626263,  2.72727273,  2.82828283,  2.92929293,\n",
       "        3.03030303,  3.13131313,  3.23232323,  3.33333333,  3.43434343,\n",
       "        3.53535354,  3.63636364,  3.73737374,  3.83838384,  3.93939394,\n",
       "        4.04040404,  4.14141414,  4.24242424,  4.34343434,  4.44444444,\n",
       "        4.54545455,  4.64646465,  4.74747475,  4.84848485,  4.94949495,\n",
       "        5.05050505,  5.15151515,  5.25252525,  5.35353535,  5.45454545,\n",
       "        5.55555556,  5.65656566,  5.75757576,  5.85858586,  5.95959596,\n",
       "        6.06060606,  6.16161616,  6.26262626,  6.36363636,  6.46464646,\n",
       "        6.56565657,  6.66666667,  6.76767677,  6.86868687,  6.96969697,\n",
       "        7.07070707,  7.17171717,  7.27272727,  7.37373737,  7.47474747,\n",
       "        7.57575758,  7.67676768,  7.77777778,  7.87878788,  7.97979798,\n",
       "        8.08080808,  8.18181818,  8.28282828,  8.38383838,  8.48484848,\n",
       "        8.58585859,  8.68686869,  8.78787879,  8.88888889,  8.98989899,\n",
       "        9.09090909,  9.19191919,  9.29292929,  9.39393939,  9.49494949,\n",
       "        9.5959596 ,  9.6969697 ,  9.7979798 ,  9.8989899 , 10.        ])"
      ]
     },
     "execution_count": 14,
     "metadata": {},
     "output_type": "execute_result"
    }
   ],
   "source": [
    "min = 0\n",
    "max = 10\n",
    "count = 100\n",
    "np.linspace(min, max, count)"
   ]
  },
  {
   "cell_type": "markdown",
   "id": "f1e6e976",
   "metadata": {},
   "source": [
    "## Indexing"
   ]
  },
  {
   "cell_type": "code",
   "execution_count": 15,
   "id": "90d9c2e7",
   "metadata": {},
   "outputs": [],
   "source": [
    "arr = np.arange(1, 11)"
   ]
  },
  {
   "cell_type": "markdown",
   "id": "a16927f2",
   "metadata": {},
   "source": [
    "First element:"
   ]
  },
  {
   "cell_type": "code",
   "execution_count": 16,
   "id": "53dfc621",
   "metadata": {},
   "outputs": [
    {
     "data": {
      "text/plain": [
       "1"
      ]
     },
     "execution_count": 16,
     "metadata": {},
     "output_type": "execute_result"
    }
   ],
   "source": [
    "arr[0]"
   ]
  },
  {
   "cell_type": "markdown",
   "id": "38dd6cab",
   "metadata": {},
   "source": [
    "Last Element"
   ]
  },
  {
   "cell_type": "code",
   "execution_count": 17,
   "id": "ce13ef1f",
   "metadata": {},
   "outputs": [
    {
     "data": {
      "text/plain": [
       "10"
      ]
     },
     "execution_count": 17,
     "metadata": {},
     "output_type": "execute_result"
    }
   ],
   "source": [
    "arr[-1]"
   ]
  },
  {
   "cell_type": "markdown",
   "id": "29f2b640",
   "metadata": {},
   "source": [
    "First 3 elements:"
   ]
  },
  {
   "cell_type": "code",
   "execution_count": 18,
   "id": "720c5adc",
   "metadata": {},
   "outputs": [
    {
     "data": {
      "text/plain": [
       "array([1, 2, 3])"
      ]
     },
     "execution_count": 18,
     "metadata": {},
     "output_type": "execute_result"
    }
   ],
   "source": [
    "arr[0:3]"
   ]
  },
  {
   "cell_type": "markdown",
   "id": "d6b00b90",
   "metadata": {},
   "source": [
    "All but last:"
   ]
  },
  {
   "cell_type": "code",
   "execution_count": 19,
   "id": "b44870ff",
   "metadata": {},
   "outputs": [
    {
     "data": {
      "text/plain": [
       "array([1, 2, 3, 4, 5, 6, 7, 8, 9])"
      ]
     },
     "execution_count": 19,
     "metadata": {},
     "output_type": "execute_result"
    }
   ],
   "source": [
    "arr[:-1]"
   ]
  },
  {
   "cell_type": "markdown",
   "id": "541fb00d",
   "metadata": {},
   "source": [
    "All but first"
   ]
  },
  {
   "cell_type": "code",
   "execution_count": 20,
   "id": "5fd772ff",
   "metadata": {},
   "outputs": [
    {
     "data": {
      "text/plain": [
       "array([ 2,  3,  4,  5,  6,  7,  8,  9, 10])"
      ]
     },
     "execution_count": 20,
     "metadata": {},
     "output_type": "execute_result"
    }
   ],
   "source": [
    "arr[1:]"
   ]
  },
  {
   "cell_type": "markdown",
   "id": "15465ea2",
   "metadata": {},
   "source": [
    "Second thrrough seventh element:"
   ]
  },
  {
   "cell_type": "code",
   "execution_count": 23,
   "id": "b9779d46",
   "metadata": {},
   "outputs": [
    {
     "data": {
      "text/plain": [
       "array([2, 3, 4, 5, 6, 7])"
      ]
     },
     "execution_count": 23,
     "metadata": {},
     "output_type": "execute_result"
    }
   ],
   "source": [
    "arr[1:7]"
   ]
  },
  {
   "cell_type": "markdown",
   "id": "702bb8e3",
   "metadata": {},
   "source": [
    "Perform math on the entire array at once:"
   ]
  },
  {
   "cell_type": "code",
   "execution_count": 24,
   "id": "b84ab33f",
   "metadata": {},
   "outputs": [
    {
     "data": {
      "text/plain": [
       "array([ 2,  3,  4,  5,  6,  7,  8,  9, 10, 11])"
      ]
     },
     "execution_count": 24,
     "metadata": {},
     "output_type": "execute_result"
    }
   ],
   "source": [
    "arr + 1"
   ]
  },
  {
   "cell_type": "code",
   "execution_count": 25,
   "id": "9b1d41d9",
   "metadata": {},
   "outputs": [
    {
     "data": {
      "text/plain": [
       "array([0, 1, 2, 3, 4, 5, 6, 7, 8, 9])"
      ]
     },
     "execution_count": 25,
     "metadata": {},
     "output_type": "execute_result"
    }
   ],
   "source": [
    "arr-1"
   ]
  },
  {
   "cell_type": "code",
   "execution_count": 26,
   "id": "99211c00",
   "metadata": {},
   "outputs": [
    {
     "data": {
      "text/plain": [
       "array([  1,   4,   9,  16,  25,  36,  49,  64,  81, 100], dtype=int32)"
      ]
     },
     "execution_count": 26,
     "metadata": {},
     "output_type": "execute_result"
    }
   ],
   "source": [
    "arr**2"
   ]
  },
  {
   "cell_type": "code",
   "execution_count": 28,
   "id": "4ae81383",
   "metadata": {},
   "outputs": [
    {
     "data": {
      "text/plain": [
       "array([1.        , 1.41421356, 1.73205081, 2.        , 2.23606798,\n",
       "       2.44948974, 2.64575131, 2.82842712, 3.        , 3.16227766])"
      ]
     },
     "execution_count": 28,
     "metadata": {},
     "output_type": "execute_result"
    }
   ],
   "source": [
    "np.sqrt(arr)"
   ]
  },
  {
   "cell_type": "markdown",
   "id": "8f75c5b6",
   "metadata": {},
   "source": [
    "Element wise math between two arrays:"
   ]
  },
  {
   "cell_type": "code",
   "execution_count": 29,
   "id": "2a50aff6",
   "metadata": {},
   "outputs": [],
   "source": [
    "arr2 = np.arange(2, 12)"
   ]
  },
  {
   "cell_type": "code",
   "execution_count": 31,
   "id": "19d39e99",
   "metadata": {},
   "outputs": [
    {
     "data": {
      "text/plain": [
       "array([1, 1, 1, 1, 1, 1, 1, 1, 1, 1])"
      ]
     },
     "execution_count": 31,
     "metadata": {},
     "output_type": "execute_result"
    }
   ],
   "source": [
    "arr2 - arr"
   ]
  },
  {
   "cell_type": "code",
   "execution_count": 32,
   "id": "3dbc59be",
   "metadata": {},
   "outputs": [
    {
     "data": {
      "text/plain": [
       "array([-1, -1, -1, -1, -1, -1, -1, -1, -1, -1])"
      ]
     },
     "execution_count": 32,
     "metadata": {},
     "output_type": "execute_result"
    }
   ],
   "source": [
    "arr - arr2"
   ]
  },
  {
   "cell_type": "code",
   "execution_count": 33,
   "id": "0ae13ee1",
   "metadata": {},
   "outputs": [
    {
     "data": {
      "text/plain": [
       "array([ 3,  5,  7,  9, 11, 13, 15, 17, 19, 21])"
      ]
     },
     "execution_count": 33,
     "metadata": {},
     "output_type": "execute_result"
    }
   ],
   "source": [
    "arr + arr2"
   ]
  },
  {
   "cell_type": "markdown",
   "id": "8dbeae81",
   "metadata": {},
   "source": [
    "## Random Numbers\n",
    "\n",
    "By default Numpy's `random.rand(n)` generates an array of number uniformly distributed\n",
    "between 0 and 1:"
   ]
  },
  {
   "cell_type": "code",
   "execution_count": 36,
   "id": "788894d0",
   "metadata": {},
   "outputs": [
    {
     "data": {
      "text/plain": [
       "array([0.50755925, 0.63226608, 0.83002359, 0.43597311, 0.21005645,\n",
       "       0.59413882, 0.70312584, 0.83239984, 0.60586284, 0.00924682])"
      ]
     },
     "execution_count": 36,
     "metadata": {},
     "output_type": "execute_result"
    }
   ],
   "source": [
    "np.random.rand(10)"
   ]
  },
  {
   "cell_type": "code",
   "execution_count": 38,
   "id": "989f46cd",
   "metadata": {},
   "outputs": [
    {
     "data": {
      "text/plain": [
       "array([[0.49077245, 0.32119178, 0.16337794],\n",
       "       [0.29829441, 0.25141549, 0.14262274]])"
      ]
     },
     "execution_count": 38,
     "metadata": {},
     "output_type": "execute_result"
    }
   ],
   "source": [
    "np.random.rand(2,3)"
   ]
  },
  {
   "cell_type": "markdown",
   "id": "87c39fd7",
   "metadata": {},
   "source": [
    "Generating normally distributed random numbers.   By default, these\n",
    "will generate numbers with a mean of 0 and a standard deviation of 1\n",
    "(note: the size of the array is specified by `size` keyword argument:"
   ]
  },
  {
   "cell_type": "code",
   "execution_count": 41,
   "id": "82322ac2",
   "metadata": {},
   "outputs": [
    {
     "data": {
      "text/plain": [
       "array([ 0.8868281 ,  0.61776828, -0.82365507,  0.42640967,  0.37094591,\n",
       "       -1.29171831,  0.23836748,  0.24359742, -0.0715745 , -0.29393079,\n",
       "        1.07354375,  3.06931855, -0.4124962 ,  0.42228278, -1.61585573,\n",
       "        0.17456526,  0.21108769, -0.36698095, -0.55300418,  0.33236261])"
      ]
     },
     "execution_count": 41,
     "metadata": {},
     "output_type": "execute_result"
    }
   ],
   "source": [
    "np.random.normal(size=20)"
   ]
  },
  {
   "cell_type": "markdown",
   "id": "db0cf520",
   "metadata": {},
   "source": [
    "Multidimensional arrays can be genrated as well:"
   ]
  },
  {
   "cell_type": "code",
   "execution_count": 46,
   "id": "4d190aca",
   "metadata": {},
   "outputs": [
    {
     "data": {
      "text/plain": [
       "array([[ 0.38950949,  0.48909338,  0.52899905],\n",
       "       [ 0.35937008, -1.23190062, -1.28693639],\n",
       "       [ 2.16376124, -0.03623493, -1.12690428],\n",
       "       [ 0.17288041,  0.76191217, -1.15093363],\n",
       "       [ 0.16712289,  0.89423623, -1.02652328],\n",
       "       [-0.06696562,  0.79811667,  0.84705229],\n",
       "       [-0.98918545,  0.26631521, -0.21204829],\n",
       "       [ 0.5017695 , -0.51137934,  0.43125589],\n",
       "       [ 1.05246426,  0.24651844,  0.74122639],\n",
       "       [ 0.04693196,  2.03785698, -0.31598714],\n",
       "       [ 0.63713497,  1.03020999,  0.76295854],\n",
       "       [ 0.01485243,  0.67752584,  1.1461894 ],\n",
       "       [ 0.788035  , -1.46087151,  0.67419501],\n",
       "       [-1.33185859,  0.53027443,  0.86371345],\n",
       "       [-1.22367533, -1.21171784, -0.77968982],\n",
       "       [-0.89210598,  0.25021248, -1.11153093],\n",
       "       [ 2.35930677,  2.54037372, -1.33196948],\n",
       "       [-0.06697957,  0.84514935,  1.70984126],\n",
       "       [-1.28840806,  1.56596487,  0.8476062 ],\n",
       "       [-0.75742777,  0.14574366,  0.6311062 ]])"
      ]
     },
     "execution_count": 46,
     "metadata": {},
     "output_type": "execute_result"
    }
   ],
   "source": [
    "np.random.normal(size=(20, 3))"
   ]
  },
  {
   "cell_type": "markdown",
   "id": "384ffb1e",
   "metadata": {},
   "source": [
    "To generate numbers with a specific center (mean) and spread (standard deviation), use \n",
    "`loc` to set the mean and `scale` to set the standard deviation."
   ]
  },
  {
   "cell_type": "code",
   "execution_count": 44,
   "id": "b1b50172",
   "metadata": {},
   "outputs": [
    {
     "data": {
      "text/plain": [
       "array([ 9.21968316, 12.72915984,  8.69414009, 12.22692247, 14.21690476,\n",
       "        9.8370603 ,  4.60793415,  9.56162344,  6.88545907, 11.6802051 ,\n",
       "       14.77439486,  9.05918799,  8.00641704, 13.21039964, 15.37774673,\n",
       "       11.72769274, 10.87179109,  5.4357937 ,  9.2260014 ,  5.41769724])"
      ]
     },
     "execution_count": 44,
     "metadata": {},
     "output_type": "execute_result"
    }
   ],
   "source": [
    "np.random.normal(loc=10, scale=3, size=20)"
   ]
  },
  {
   "cell_type": "code",
   "execution_count": null,
   "id": "79ff0da0",
   "metadata": {},
   "outputs": [],
   "source": []
  }
 ],
 "metadata": {
  "kernelspec": {
   "display_name": "Python 3",
   "language": "python",
   "name": "python3"
  },
  "language_info": {
   "codemirror_mode": {
    "name": "ipython",
    "version": 3
   },
   "file_extension": ".py",
   "mimetype": "text/x-python",
   "name": "python",
   "nbconvert_exporter": "python",
   "pygments_lexer": "ipython3",
   "version": "3.9.4"
  }
 },
 "nbformat": 4,
 "nbformat_minor": 5
}
