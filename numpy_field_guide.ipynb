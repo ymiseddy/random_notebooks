{
 "cells": [
  {
   "cell_type": "markdown",
   "id": "275af81d",
   "metadata": {},
   "source": [
    "# Numpy Field Guide\n",
    "\n",
    "Numpy arrays are fast and powerful.   Try to use these instead of \n",
    "iterating through elements of a Python list whenever applicable since\n",
    "the underlying numpy library is compiled from C and as such is much\n",
    "faster than the interpreted python."
   ]
  },
  {
   "cell_type": "code",
   "execution_count": 1,
   "id": "fd61376e",
   "metadata": {},
   "outputs": [],
   "source": [
    "import numpy as np\n",
    "import matplotlib.pyplot as plt\n"
   ]
  },
  {
   "cell_type": "markdown",
   "id": "75647296",
   "metadata": {},
   "source": [
    "Using the plt styles to make our charts look better."
   ]
  },
  {
   "cell_type": "code",
   "execution_count": 2,
   "id": "30b1282c",
   "metadata": {},
   "outputs": [],
   "source": [
    "plt.style.use([\"science\", \"notebook\", \"grid\"])"
   ]
  },
  {
   "cell_type": "markdown",
   "id": "3f643e77",
   "metadata": {},
   "source": [
    "## Arrays"
   ]
  },
  {
   "cell_type": "markdown",
   "id": "945f9da4",
   "metadata": {},
   "source": [
    "### Creating Range Arrays\n",
    "Create an array from 0 to `n`:\n",
    "`np.arange(n+1)`"
   ]
  },
  {
   "cell_type": "code",
   "execution_count": 3,
   "id": "11d9ca4b",
   "metadata": {},
   "outputs": [
    {
     "data": {
      "text/plain": [
       "array([ 0,  1,  2,  3,  4,  5,  6,  7,  8,  9, 10, 11, 12, 13, 14])"
      ]
     },
     "execution_count": 3,
     "metadata": {},
     "output_type": "execute_result"
    }
   ],
   "source": [
    "np.arange(15)"
   ]
  },
  {
   "cell_type": "markdown",
   "id": "c2844b5a",
   "metadata": {},
   "source": [
    "Range between two values:"
   ]
  },
  {
   "cell_type": "code",
   "execution_count": 4,
   "id": "4846bd59",
   "metadata": {},
   "outputs": [
    {
     "data": {
      "text/plain": [
       "array([10, 11, 12, 13, 14, 15, 16, 17, 18, 19])"
      ]
     },
     "execution_count": 4,
     "metadata": {},
     "output_type": "execute_result"
    }
   ],
   "source": [
    "np.arange(10,20)"
   ]
  },
  {
   "cell_type": "markdown",
   "id": "98694a3e",
   "metadata": {},
   "source": [
    "### Array of zeroes (np.zeros)\n",
    "\n",
    "**Note, no zeros not zeroes**"
   ]
  },
  {
   "cell_type": "code",
   "execution_count": 5,
   "id": "dedca549",
   "metadata": {},
   "outputs": [
    {
     "data": {
      "text/plain": [
       "array([0., 0., 0., 0., 0., 0., 0., 0., 0., 0.])"
      ]
     },
     "execution_count": 5,
     "metadata": {},
     "output_type": "execute_result"
    }
   ],
   "source": [
    "np.zeros(10)"
   ]
  },
  {
   "cell_type": "markdown",
   "id": "bd3ebd6d",
   "metadata": {},
   "source": [
    "Multi dimensional array (5x5):"
   ]
  },
  {
   "cell_type": "code",
   "execution_count": 6,
   "id": "ff84bbb9",
   "metadata": {},
   "outputs": [
    {
     "data": {
      "text/plain": [
       "array([[0., 0., 0., 0., 0.],\n",
       "       [0., 0., 0., 0., 0.],\n",
       "       [0., 0., 0., 0., 0.],\n",
       "       [0., 0., 0., 0., 0.],\n",
       "       [0., 0., 0., 0., 0.]])"
      ]
     },
     "execution_count": 6,
     "metadata": {},
     "output_type": "execute_result"
    }
   ],
   "source": [
    "np.zeros((5,5))"
   ]
  },
  {
   "cell_type": "markdown",
   "id": "7f35e00d",
   "metadata": {},
   "source": [
    "In general:\n",
    "`np.zeros((rows, columns))`"
   ]
  },
  {
   "cell_type": "code",
   "execution_count": 7,
   "id": "bdba7d66",
   "metadata": {},
   "outputs": [
    {
     "data": {
      "text/plain": [
       "array([[0., 0.],\n",
       "       [0., 0.],\n",
       "       [0., 0.]])"
      ]
     },
     "execution_count": 7,
     "metadata": {},
     "output_type": "execute_result"
    }
   ],
   "source": [
    "rows = 3\n",
    "columns = 2\n",
    "np.zeros((rows, columns))"
   ]
  },
  {
   "cell_type": "markdown",
   "id": "e6f19908",
   "metadata": {},
   "source": [
    "### Array of ones (np.ones)"
   ]
  },
  {
   "cell_type": "code",
   "execution_count": 8,
   "id": "7d933eae",
   "metadata": {},
   "outputs": [
    {
     "data": {
      "text/plain": [
       "array([[1., 1.],\n",
       "       [1., 1.],\n",
       "       [1., 1.]])"
      ]
     },
     "execution_count": 8,
     "metadata": {},
     "output_type": "execute_result"
    }
   ],
   "source": [
    "np.ones((rows, columns))"
   ]
  },
  {
   "cell_type": "markdown",
   "id": "5f2d882c",
   "metadata": {},
   "source": [
    "### Arrays of arbitrary values (np.full)"
   ]
  },
  {
   "cell_type": "code",
   "execution_count": 9,
   "id": "e06fdf84",
   "metadata": {},
   "outputs": [
    {
     "data": {
      "text/plain": [
       "array([[5, 5],\n",
       "       [5, 5],\n",
       "       [5, 5]])"
      ]
     },
     "execution_count": 9,
     "metadata": {},
     "output_type": "execute_result"
    }
   ],
   "source": [
    "np.full((rows, columns), 5)"
   ]
  },
  {
   "cell_type": "markdown",
   "id": "9a9d2f90",
   "metadata": {},
   "source": [
    "### Array architecture can be changed with reshape."
   ]
  },
  {
   "cell_type": "code",
   "execution_count": 10,
   "id": "63acc435",
   "metadata": {},
   "outputs": [
    {
     "data": {
      "text/plain": [
       "array([1, 2, 3, 4, 5, 6, 7, 8, 9])"
      ]
     },
     "execution_count": 10,
     "metadata": {},
     "output_type": "execute_result"
    }
   ],
   "source": [
    "a = np.arange(1, 10)\n",
    "a"
   ]
  },
  {
   "cell_type": "markdown",
   "id": "0f3230b3",
   "metadata": {},
   "source": [
    "The same values, just organized as a 3x3 matrix:"
   ]
  },
  {
   "cell_type": "code",
   "execution_count": 58,
   "id": "770ca89e",
   "metadata": {},
   "outputs": [
    {
     "data": {
      "text/plain": [
       "array([[1, 2, 3],\n",
       "       [4, 5, 6],\n",
       "       [7, 8, 9]])"
      ]
     },
     "execution_count": 58,
     "metadata": {},
     "output_type": "execute_result"
    }
   ],
   "source": [
    "A = a.reshape(3, 3)\n",
    "A"
   ]
  },
  {
   "cell_type": "markdown",
   "id": "020131ed",
   "metadata": {},
   "source": [
    "### Transposing arrays\n",
    "Accessing the .T property of a matrix will transpose it (swap rows/columns)"
   ]
  },
  {
   "cell_type": "code",
   "execution_count": 60,
   "id": "b425e133",
   "metadata": {},
   "outputs": [
    {
     "data": {
      "text/plain": [
       "array([[1, 4, 7],\n",
       "       [2, 5, 8],\n",
       "       [3, 6, 9]])"
      ]
     },
     "execution_count": 60,
     "metadata": {},
     "output_type": "execute_result"
    }
   ],
   "source": [
    "A.T"
   ]
  },
  {
   "cell_type": "markdown",
   "id": "ae4de042",
   "metadata": {},
   "source": [
    "### Linspace \n",
    "\n",
    "Linspace is useful for generating the x values for graphs.\n",
    "\n",
    "Linspace generates `count` values evenly spaced between \n",
    "`min` and `max`."
   ]
  },
  {
   "cell_type": "code",
   "execution_count": 12,
   "id": "434facf2",
   "metadata": {},
   "outputs": [
    {
     "data": {
      "text/plain": [
       "array([ 0.        ,  0.1010101 ,  0.2020202 ,  0.3030303 ,  0.4040404 ,\n",
       "        0.50505051,  0.60606061,  0.70707071,  0.80808081,  0.90909091,\n",
       "        1.01010101,  1.11111111,  1.21212121,  1.31313131,  1.41414141,\n",
       "        1.51515152,  1.61616162,  1.71717172,  1.81818182,  1.91919192,\n",
       "        2.02020202,  2.12121212,  2.22222222,  2.32323232,  2.42424242,\n",
       "        2.52525253,  2.62626263,  2.72727273,  2.82828283,  2.92929293,\n",
       "        3.03030303,  3.13131313,  3.23232323,  3.33333333,  3.43434343,\n",
       "        3.53535354,  3.63636364,  3.73737374,  3.83838384,  3.93939394,\n",
       "        4.04040404,  4.14141414,  4.24242424,  4.34343434,  4.44444444,\n",
       "        4.54545455,  4.64646465,  4.74747475,  4.84848485,  4.94949495,\n",
       "        5.05050505,  5.15151515,  5.25252525,  5.35353535,  5.45454545,\n",
       "        5.55555556,  5.65656566,  5.75757576,  5.85858586,  5.95959596,\n",
       "        6.06060606,  6.16161616,  6.26262626,  6.36363636,  6.46464646,\n",
       "        6.56565657,  6.66666667,  6.76767677,  6.86868687,  6.96969697,\n",
       "        7.07070707,  7.17171717,  7.27272727,  7.37373737,  7.47474747,\n",
       "        7.57575758,  7.67676768,  7.77777778,  7.87878788,  7.97979798,\n",
       "        8.08080808,  8.18181818,  8.28282828,  8.38383838,  8.48484848,\n",
       "        8.58585859,  8.68686869,  8.78787879,  8.88888889,  8.98989899,\n",
       "        9.09090909,  9.19191919,  9.29292929,  9.39393939,  9.49494949,\n",
       "        9.5959596 ,  9.6969697 ,  9.7979798 ,  9.8989899 , 10.        ])"
      ]
     },
     "execution_count": 12,
     "metadata": {},
     "output_type": "execute_result"
    }
   ],
   "source": [
    "min = 0\n",
    "max = 10\n",
    "count = 100\n",
    "np.linspace(min, max, count)"
   ]
  },
  {
   "cell_type": "markdown",
   "id": "f1e6e976",
   "metadata": {},
   "source": [
    "## Indexing"
   ]
  },
  {
   "cell_type": "code",
   "execution_count": 13,
   "id": "90d9c2e7",
   "metadata": {},
   "outputs": [],
   "source": [
    "arr = np.arange(1, 11)"
   ]
  },
  {
   "cell_type": "markdown",
   "id": "a16927f2",
   "metadata": {},
   "source": [
    "First element:"
   ]
  },
  {
   "cell_type": "code",
   "execution_count": 14,
   "id": "53dfc621",
   "metadata": {},
   "outputs": [
    {
     "data": {
      "text/plain": [
       "1"
      ]
     },
     "execution_count": 14,
     "metadata": {},
     "output_type": "execute_result"
    }
   ],
   "source": [
    "arr[0]"
   ]
  },
  {
   "cell_type": "markdown",
   "id": "38dd6cab",
   "metadata": {},
   "source": [
    "Last Element"
   ]
  },
  {
   "cell_type": "code",
   "execution_count": 15,
   "id": "ce13ef1f",
   "metadata": {},
   "outputs": [
    {
     "data": {
      "text/plain": [
       "10"
      ]
     },
     "execution_count": 15,
     "metadata": {},
     "output_type": "execute_result"
    }
   ],
   "source": [
    "arr[-1]"
   ]
  },
  {
   "cell_type": "markdown",
   "id": "29f2b640",
   "metadata": {},
   "source": [
    "First 3 elements:"
   ]
  },
  {
   "cell_type": "code",
   "execution_count": 16,
   "id": "720c5adc",
   "metadata": {},
   "outputs": [
    {
     "data": {
      "text/plain": [
       "array([1, 2, 3])"
      ]
     },
     "execution_count": 16,
     "metadata": {},
     "output_type": "execute_result"
    }
   ],
   "source": [
    "arr[0:3]"
   ]
  },
  {
   "cell_type": "markdown",
   "id": "d6b00b90",
   "metadata": {},
   "source": [
    "All but last:"
   ]
  },
  {
   "cell_type": "code",
   "execution_count": 17,
   "id": "b44870ff",
   "metadata": {},
   "outputs": [
    {
     "data": {
      "text/plain": [
       "array([1, 2, 3, 4, 5, 6, 7, 8, 9])"
      ]
     },
     "execution_count": 17,
     "metadata": {},
     "output_type": "execute_result"
    }
   ],
   "source": [
    "arr[:-1]"
   ]
  },
  {
   "cell_type": "markdown",
   "id": "541fb00d",
   "metadata": {},
   "source": [
    "All but first"
   ]
  },
  {
   "cell_type": "code",
   "execution_count": 18,
   "id": "5fd772ff",
   "metadata": {},
   "outputs": [
    {
     "data": {
      "text/plain": [
       "array([ 2,  3,  4,  5,  6,  7,  8,  9, 10])"
      ]
     },
     "execution_count": 18,
     "metadata": {},
     "output_type": "execute_result"
    }
   ],
   "source": [
    "arr[1:]"
   ]
  },
  {
   "cell_type": "markdown",
   "id": "15465ea2",
   "metadata": {},
   "source": [
    "Second thrrough seventh element:"
   ]
  },
  {
   "cell_type": "code",
   "execution_count": 19,
   "id": "b9779d46",
   "metadata": {},
   "outputs": [
    {
     "data": {
      "text/plain": [
       "array([2, 3, 4, 5, 6, 7])"
      ]
     },
     "execution_count": 19,
     "metadata": {},
     "output_type": "execute_result"
    }
   ],
   "source": [
    "arr[1:7]"
   ]
  },
  {
   "cell_type": "markdown",
   "id": "9b3b2aff",
   "metadata": {},
   "source": [
    "### Conditional Indexing\n",
    "\n",
    "Comparisons with an array will return a new array of booleans indicating\n",
    "whether or not the corresponding index matches the condition:"
   ]
  },
  {
   "cell_type": "code",
   "execution_count": 20,
   "id": "4db0fc45",
   "metadata": {},
   "outputs": [
    {
     "data": {
      "text/plain": [
       "array([ True,  True,  True,  True,  True, False, False, False, False,\n",
       "       False])"
      ]
     },
     "execution_count": 20,
     "metadata": {},
     "output_type": "execute_result"
    }
   ],
   "source": [
    "less_than_six = arr < 6\n",
    "less_than_six"
   ]
  },
  {
   "cell_type": "markdown",
   "id": "746dc11c",
   "metadata": {},
   "source": [
    "This can subsequently be used as an index of the array to return only\n",
    "the matching values:"
   ]
  },
  {
   "cell_type": "code",
   "execution_count": 21,
   "id": "92d804c4",
   "metadata": {},
   "outputs": [
    {
     "data": {
      "text/plain": [
       "array([1, 2, 3, 4, 5])"
      ]
     },
     "execution_count": 21,
     "metadata": {},
     "output_type": "execute_result"
    }
   ],
   "source": [
    "arr[less_than_six]"
   ]
  },
  {
   "cell_type": "markdown",
   "id": "77f0d385",
   "metadata": {},
   "source": [
    "Or more tersely:"
   ]
  },
  {
   "cell_type": "code",
   "execution_count": 22,
   "id": "5207184d",
   "metadata": {},
   "outputs": [
    {
     "data": {
      "text/plain": [
       "array([1, 2, 3, 4, 5])"
      ]
     },
     "execution_count": 22,
     "metadata": {},
     "output_type": "execute_result"
    }
   ],
   "source": [
    "arr[arr < 6]"
   ]
  },
  {
   "cell_type": "markdown",
   "id": "e14f5f03",
   "metadata": {},
   "source": [
    "Another example: the even numbers"
   ]
  },
  {
   "cell_type": "code",
   "execution_count": 23,
   "id": "38bdd082",
   "metadata": {},
   "outputs": [
    {
     "data": {
      "text/plain": [
       "array([ 2,  4,  6,  8, 10])"
      ]
     },
     "execution_count": 23,
     "metadata": {},
     "output_type": "execute_result"
    }
   ],
   "source": [
    "arr[arr % 2 == 0]"
   ]
  },
  {
   "cell_type": "markdown",
   "id": "abedf0eb",
   "metadata": {},
   "source": [
    "### Multi-dimensional array access"
   ]
  },
  {
   "cell_type": "code",
   "execution_count": 24,
   "id": "02b92f49",
   "metadata": {},
   "outputs": [
    {
     "data": {
      "text/plain": [
       "array([[1, 2, 3],\n",
       "       [4, 5, 6],\n",
       "       [7, 8, 9]])"
      ]
     },
     "execution_count": 24,
     "metadata": {},
     "output_type": "execute_result"
    }
   ],
   "source": [
    "A = np.arange(1, 10).reshape(3, 3)\n",
    "A"
   ]
  },
  {
   "cell_type": "markdown",
   "id": "5298b2dd",
   "metadata": {},
   "source": [
    "Accessing an element of the array:"
   ]
  },
  {
   "cell_type": "code",
   "execution_count": 25,
   "id": "aa7ff55c",
   "metadata": {},
   "outputs": [
    {
     "data": {
      "text/plain": [
       "1"
      ]
     },
     "execution_count": 25,
     "metadata": {},
     "output_type": "execute_result"
    }
   ],
   "source": [
    "A[0,0]"
   ]
  },
  {
   "cell_type": "markdown",
   "id": "8b590fb3",
   "metadata": {},
   "source": [
    "The first row:"
   ]
  },
  {
   "cell_type": "code",
   "execution_count": 26,
   "id": "9956eab0",
   "metadata": {},
   "outputs": [
    {
     "data": {
      "text/plain": [
       "array([1, 2, 3])"
      ]
     },
     "execution_count": 26,
     "metadata": {},
     "output_type": "execute_result"
    }
   ],
   "source": [
    "A[0]"
   ]
  },
  {
   "cell_type": "markdown",
   "id": "e791bfb2",
   "metadata": {},
   "source": [
    "The Last row:"
   ]
  },
  {
   "cell_type": "code",
   "execution_count": 27,
   "id": "aaf38333",
   "metadata": {},
   "outputs": [
    {
     "data": {
      "text/plain": [
       "array([7, 8, 9])"
      ]
     },
     "execution_count": 27,
     "metadata": {},
     "output_type": "execute_result"
    }
   ],
   "source": [
    "A[-1]"
   ]
  },
  {
   "cell_type": "markdown",
   "id": "542ed87f",
   "metadata": {},
   "source": [
    "The first column:"
   ]
  },
  {
   "cell_type": "code",
   "execution_count": 28,
   "id": "24508c47",
   "metadata": {},
   "outputs": [
    {
     "data": {
      "text/plain": [
       "array([1, 4, 7])"
      ]
     },
     "execution_count": 28,
     "metadata": {},
     "output_type": "execute_result"
    }
   ],
   "source": [
    "A[:,0]"
   ]
  },
  {
   "cell_type": "markdown",
   "id": "068efca1",
   "metadata": {},
   "source": [
    "The last column"
   ]
  },
  {
   "cell_type": "code",
   "execution_count": 29,
   "id": "942c3285",
   "metadata": {},
   "outputs": [
    {
     "data": {
      "text/plain": [
       "array([3, 6, 9])"
      ]
     },
     "execution_count": 29,
     "metadata": {},
     "output_type": "execute_result"
    }
   ],
   "source": [
    "A[:,-1]"
   ]
  },
  {
   "cell_type": "markdown",
   "id": "702bb8e3",
   "metadata": {},
   "source": [
    "## Math Operations\n",
    "\n",
    "Perform math on the entire array at once:"
   ]
  },
  {
   "cell_type": "markdown",
   "id": "3a5a06aa",
   "metadata": {},
   "source": [
    "### One Dimensional Arrays"
   ]
  },
  {
   "cell_type": "code",
   "execution_count": 30,
   "id": "482f5eb6",
   "metadata": {},
   "outputs": [
    {
     "data": {
      "text/plain": [
       "array([ 1,  2,  3,  4,  5,  6,  7,  8,  9, 10])"
      ]
     },
     "execution_count": 30,
     "metadata": {},
     "output_type": "execute_result"
    }
   ],
   "source": [
    "arr = np.arange(1, 11)\n",
    "arr"
   ]
  },
  {
   "cell_type": "code",
   "execution_count": 31,
   "id": "b84ab33f",
   "metadata": {},
   "outputs": [
    {
     "data": {
      "text/plain": [
       "array([ 2,  3,  4,  5,  6,  7,  8,  9, 10, 11])"
      ]
     },
     "execution_count": 31,
     "metadata": {},
     "output_type": "execute_result"
    }
   ],
   "source": [
    "arr + 1"
   ]
  },
  {
   "cell_type": "code",
   "execution_count": 32,
   "id": "9b1d41d9",
   "metadata": {},
   "outputs": [
    {
     "data": {
      "text/plain": [
       "array([0, 1, 2, 3, 4, 5, 6, 7, 8, 9])"
      ]
     },
     "execution_count": 32,
     "metadata": {},
     "output_type": "execute_result"
    }
   ],
   "source": [
    "arr-1"
   ]
  },
  {
   "cell_type": "code",
   "execution_count": 33,
   "id": "99211c00",
   "metadata": {},
   "outputs": [
    {
     "data": {
      "text/plain": [
       "array([  1,   4,   9,  16,  25,  36,  49,  64,  81, 100], dtype=int32)"
      ]
     },
     "execution_count": 33,
     "metadata": {},
     "output_type": "execute_result"
    }
   ],
   "source": [
    "arr**2"
   ]
  },
  {
   "cell_type": "code",
   "execution_count": 34,
   "id": "4ae81383",
   "metadata": {},
   "outputs": [
    {
     "data": {
      "text/plain": [
       "array([1.        , 1.41421356, 1.73205081, 2.        , 2.23606798,\n",
       "       2.44948974, 2.64575131, 2.82842712, 3.        , 3.16227766])"
      ]
     },
     "execution_count": 34,
     "metadata": {},
     "output_type": "execute_result"
    }
   ],
   "source": [
    "np.sqrt(arr)"
   ]
  },
  {
   "cell_type": "markdown",
   "id": "8f75c5b6",
   "metadata": {},
   "source": [
    "Element wise math between two arrays:"
   ]
  },
  {
   "cell_type": "code",
   "execution_count": 35,
   "id": "2a50aff6",
   "metadata": {},
   "outputs": [],
   "source": [
    "arr2 = np.arange(2, 12)"
   ]
  },
  {
   "cell_type": "code",
   "execution_count": 36,
   "id": "19d39e99",
   "metadata": {},
   "outputs": [
    {
     "data": {
      "text/plain": [
       "array([1, 1, 1, 1, 1, 1, 1, 1, 1, 1])"
      ]
     },
     "execution_count": 36,
     "metadata": {},
     "output_type": "execute_result"
    }
   ],
   "source": [
    "arr2 - arr"
   ]
  },
  {
   "cell_type": "code",
   "execution_count": 37,
   "id": "3dbc59be",
   "metadata": {},
   "outputs": [
    {
     "data": {
      "text/plain": [
       "array([-1, -1, -1, -1, -1, -1, -1, -1, -1, -1])"
      ]
     },
     "execution_count": 37,
     "metadata": {},
     "output_type": "execute_result"
    }
   ],
   "source": [
    "arr - arr2"
   ]
  },
  {
   "cell_type": "code",
   "execution_count": 38,
   "id": "0ae13ee1",
   "metadata": {},
   "outputs": [
    {
     "data": {
      "text/plain": [
       "array([ 3,  5,  7,  9, 11, 13, 15, 17, 19, 21])"
      ]
     },
     "execution_count": 38,
     "metadata": {},
     "output_type": "execute_result"
    }
   ],
   "source": [
    "arr + arr2"
   ]
  },
  {
   "cell_type": "markdown",
   "id": "97a0451b",
   "metadata": {},
   "source": [
    "### Multi-dimensional Arrays"
   ]
  },
  {
   "cell_type": "code",
   "execution_count": 39,
   "id": "8e380712",
   "metadata": {},
   "outputs": [
    {
     "data": {
      "text/plain": [
       "array([[1, 2, 3],\n",
       "       [4, 5, 6],\n",
       "       [7, 8, 9]])"
      ]
     },
     "execution_count": 39,
     "metadata": {},
     "output_type": "execute_result"
    }
   ],
   "source": [
    "A = np.arange(1, 10).reshape(3,3)\n",
    "A"
   ]
  },
  {
   "cell_type": "markdown",
   "id": "45bcf5d6",
   "metadata": {},
   "source": [
    "Add a constant value to each element of the array"
   ]
  },
  {
   "cell_type": "code",
   "execution_count": 40,
   "id": "a6d20063",
   "metadata": {},
   "outputs": [
    {
     "data": {
      "text/plain": [
       "array([[ 2,  3,  4],\n",
       "       [ 5,  6,  7],\n",
       "       [ 8,  9, 10]])"
      ]
     },
     "execution_count": 40,
     "metadata": {},
     "output_type": "execute_result"
    }
   ],
   "source": [
    "A + 1"
   ]
  },
  {
   "cell_type": "code",
   "execution_count": 41,
   "id": "04478eb1",
   "metadata": {},
   "outputs": [
    {
     "data": {
      "text/plain": [
       "array([[ 2,  4,  6],\n",
       "       [ 8, 10, 12],\n",
       "       [14, 16, 18]])"
      ]
     },
     "execution_count": 41,
     "metadata": {},
     "output_type": "execute_result"
    }
   ],
   "source": [
    "B = np.arange(2, 20, 2).reshape(3,3)\n",
    "B"
   ]
  },
  {
   "cell_type": "markdown",
   "id": "3c9f8a32",
   "metadata": {},
   "source": [
    "Element wise addition"
   ]
  },
  {
   "cell_type": "code",
   "execution_count": 42,
   "id": "67aed1ca",
   "metadata": {},
   "outputs": [
    {
     "data": {
      "text/plain": [
       "array([[ 3,  6,  9],\n",
       "       [12, 15, 18],\n",
       "       [21, 24, 27]])"
      ]
     },
     "execution_count": 42,
     "metadata": {},
     "output_type": "execute_result"
    }
   ],
   "source": [
    "A + B"
   ]
  },
  {
   "cell_type": "markdown",
   "id": "0cc8edff",
   "metadata": {},
   "source": [
    "Element wise division"
   ]
  },
  {
   "cell_type": "code",
   "execution_count": 43,
   "id": "5676e7f3",
   "metadata": {},
   "outputs": [
    {
     "data": {
      "text/plain": [
       "array([[1., 2., 3.],\n",
       "       [4., 5., 6.],\n",
       "       [7., 8., 9.]])"
      ]
     },
     "execution_count": 43,
     "metadata": {},
     "output_type": "execute_result"
    }
   ],
   "source": [
    "B/2"
   ]
  },
  {
   "cell_type": "markdown",
   "id": "8bac797b",
   "metadata": {},
   "source": [
    "Element-wise subtraction of two matricies:"
   ]
  },
  {
   "cell_type": "code",
   "execution_count": 44,
   "id": "55c57126",
   "metadata": {},
   "outputs": [
    {
     "data": {
      "text/plain": [
       "array([[1, 2, 3],\n",
       "       [4, 5, 6],\n",
       "       [7, 8, 9]])"
      ]
     },
     "execution_count": 44,
     "metadata": {},
     "output_type": "execute_result"
    }
   ],
   "source": [
    "B - A"
   ]
  },
  {
   "cell_type": "code",
   "execution_count": 45,
   "id": "08c197b7",
   "metadata": {},
   "outputs": [
    {
     "data": {
      "text/plain": [
       "array([[  2,   8,  18],\n",
       "       [ 32,  50,  72],\n",
       "       [ 98, 128, 162]])"
      ]
     },
     "execution_count": 45,
     "metadata": {},
     "output_type": "execute_result"
    }
   ],
   "source": [
    "A * B"
   ]
  },
  {
   "cell_type": "markdown",
   "id": "e4363423",
   "metadata": {},
   "source": [
    "Dot product"
   ]
  },
  {
   "cell_type": "code",
   "execution_count": 46,
   "id": "5e956236",
   "metadata": {},
   "outputs": [
    {
     "data": {
      "text/plain": [
       "array([[ 60,  72,  84],\n",
       "       [132, 162, 192],\n",
       "       [204, 252, 300]])"
      ]
     },
     "execution_count": 46,
     "metadata": {},
     "output_type": "execute_result"
    }
   ],
   "source": [
    "A @ B"
   ]
  },
  {
   "cell_type": "markdown",
   "id": "8240c697",
   "metadata": {},
   "source": [
    "_also can be done with np.dot_"
   ]
  },
  {
   "cell_type": "code",
   "execution_count": 47,
   "id": "eeb4baf3",
   "metadata": {},
   "outputs": [
    {
     "data": {
      "text/plain": [
       "array([[ 60,  72,  84],\n",
       "       [132, 162, 192],\n",
       "       [204, 252, 300]])"
      ]
     },
     "execution_count": 47,
     "metadata": {},
     "output_type": "execute_result"
    }
   ],
   "source": [
    "np.dot(A, B)"
   ]
  },
  {
   "cell_type": "markdown",
   "id": "ecbc6649",
   "metadata": {},
   "source": [
    "Can be used with differing arcitecture arrays/matricies as long as they\n",
    "are compatible.\n",
    "\n",
    "The following sets up a clockwise 90 degree rotation matrix then rotates the\n",
    "point at 1,1 to 1, -1:"
   ]
  },
  {
   "cell_type": "code",
   "execution_count": 48,
   "id": "d849ca76",
   "metadata": {},
   "outputs": [
    {
     "data": {
      "text/plain": [
       "array([[ 0,  1],\n",
       "       [-1,  0]])"
      ]
     },
     "metadata": {},
     "output_type": "display_data"
    },
    {
     "data": {
      "text/plain": [
       "'Before rotation:'"
      ]
     },
     "metadata": {},
     "output_type": "display_data"
    },
    {
     "data": {
      "text/plain": [
       "array([1, 1])"
      ]
     },
     "metadata": {},
     "output_type": "display_data"
    },
    {
     "data": {
      "text/plain": [
       "'After rotation:'"
      ]
     },
     "metadata": {},
     "output_type": "display_data"
    },
    {
     "data": {
      "text/plain": [
       "array([ 1, -1])"
      ]
     },
     "execution_count": 48,
     "metadata": {},
     "output_type": "execute_result"
    }
   ],
   "source": [
    "rotation_clockwise = np.array([[0, 1],\n",
    "                              [-1, 0]])\n",
    "display(rotation_clockwise)\n",
    "v = np.array([1, 1])\n",
    "display(\"Before rotation:\")\n",
    "display(v)\n",
    "display(\"After rotation:\")\n",
    "rotation_clockwise @ v"
   ]
  },
  {
   "cell_type": "markdown",
   "id": "8dbeae81",
   "metadata": {},
   "source": [
    "## Random Numbers\n",
    "\n",
    "By default Numpy's `random.rand(n)` generates an array of number uniformly distributed\n",
    "between 0 and 1:"
   ]
  },
  {
   "cell_type": "code",
   "execution_count": 49,
   "id": "788894d0",
   "metadata": {},
   "outputs": [
    {
     "data": {
      "text/plain": [
       "array([0.96285822, 0.38557673, 0.09156868, 0.85425729, 0.06837334,\n",
       "       0.47191142, 0.08318625, 0.31777249, 0.13428006, 0.69362414])"
      ]
     },
     "execution_count": 49,
     "metadata": {},
     "output_type": "execute_result"
    }
   ],
   "source": [
    "np.random.rand(10)"
   ]
  },
  {
   "cell_type": "code",
   "execution_count": 50,
   "id": "989f46cd",
   "metadata": {},
   "outputs": [
    {
     "data": {
      "text/plain": [
       "array([[0.23374617, 0.85925942, 0.87628755],\n",
       "       [0.46815788, 0.77061649, 0.43243993]])"
      ]
     },
     "execution_count": 50,
     "metadata": {},
     "output_type": "execute_result"
    }
   ],
   "source": [
    "np.random.rand(2,3)"
   ]
  },
  {
   "cell_type": "markdown",
   "id": "87c39fd7",
   "metadata": {},
   "source": [
    "### Random numbers with a normal distribution\n",
    "\n",
    "Generating normally distributed random numbers.   By default, these\n",
    "will generate numbers with a mean of 0 and a standard deviation of 1\n",
    "(note: the size of the array is specified by `size` keyword argument:"
   ]
  },
  {
   "cell_type": "code",
   "execution_count": 51,
   "id": "82322ac2",
   "metadata": {},
   "outputs": [
    {
     "data": {
      "text/plain": [
       "array([-0.61257907,  0.14632348,  0.98829646, -0.99841694,  0.42838226,\n",
       "        0.07785508,  0.50370328, -0.2658711 ,  0.57151514, -1.07994551,\n",
       "        0.26393304, -1.45631935,  0.26453057, -0.89072355,  0.08221953,\n",
       "       -0.88540025,  0.6105223 ,  0.3629016 ,  0.2749277 ,  0.12771098])"
      ]
     },
     "execution_count": 51,
     "metadata": {},
     "output_type": "execute_result"
    }
   ],
   "source": [
    "np.random.normal(size=20)"
   ]
  },
  {
   "cell_type": "markdown",
   "id": "db0cf520",
   "metadata": {},
   "source": [
    "Multidimensional arrays can be genrated as well:"
   ]
  },
  {
   "cell_type": "code",
   "execution_count": 52,
   "id": "4d190aca",
   "metadata": {},
   "outputs": [
    {
     "data": {
      "text/plain": [
       "array([[-0.67672787, -0.5360107 , -0.68076202],\n",
       "       [ 0.66187092, -0.72633761, -0.2715537 ],\n",
       "       [-1.11790148, -0.40422388,  0.71838707],\n",
       "       [-0.06027955,  1.36262793, -0.29927754],\n",
       "       [ 1.18669691, -0.45347418,  0.2370029 ],\n",
       "       [-1.94879437, -0.57736293,  0.31840555],\n",
       "       [-0.72546554,  0.61485479,  0.11616888],\n",
       "       [ 1.2278608 ,  1.85788454, -0.42129212],\n",
       "       [ 1.80147029, -0.83747839,  1.76956223],\n",
       "       [ 0.88281054,  1.01978732,  0.58776997],\n",
       "       [ 0.285462  ,  0.97406204, -2.06482983],\n",
       "       [ 0.52253554, -0.06469292, -0.87678881],\n",
       "       [ 0.69617096, -1.33879067, -1.15081647],\n",
       "       [ 0.99876233, -0.77821711,  0.9281866 ],\n",
       "       [-2.6904641 ,  0.9543498 ,  0.33027603],\n",
       "       [ 0.01746271,  0.60281073,  0.78090975],\n",
       "       [-0.9864735 , -0.26975768,  0.72973176],\n",
       "       [-0.67424186,  1.50791593,  0.82881688],\n",
       "       [ 1.35605287, -0.24117064, -0.46067284],\n",
       "       [-0.70393578, -0.58840387, -1.67145073]])"
      ]
     },
     "execution_count": 52,
     "metadata": {},
     "output_type": "execute_result"
    }
   ],
   "source": [
    "np.random.normal(size=(20, 3))"
   ]
  },
  {
   "cell_type": "markdown",
   "id": "384ffb1e",
   "metadata": {},
   "source": [
    "To generate numbers with a specific center (mean) and spread (standard deviation), use \n",
    "`loc` to set the mean and `scale` to set the standard deviation."
   ]
  },
  {
   "cell_type": "code",
   "execution_count": 53,
   "id": "b1b50172",
   "metadata": {},
   "outputs": [],
   "source": [
    "norm = np.random.normal(loc=10, scale=3, size=500)"
   ]
  },
  {
   "cell_type": "code",
   "execution_count": 54,
   "id": "79ff0da0",
   "metadata": {
    "scrolled": true
   },
   "outputs": [
    {
     "data": {
      "image/png": "[encoded data removed]",
      "text/plain": [
       "<Figure size 576x432 with 1 Axes>"
      ]
     },
     "metadata": {
      "needs_background": "light"
     },
     "output_type": "display_data"
    }
   ],
   "source": [
    "plt.hist(norm, bins=10)\n",
    "plt.show()"
   ]
  },
  {
   "cell_type": "markdown",
   "id": "5cccb5ef",
   "metadata": {},
   "source": [
    "## Plotting Functions\n",
    "\n",
    "Use `np.linspace` to generate a number of points in the range of your function.\n",
    "Then you can generate y axis points by calling the function on this space:"
   ]
  },
  {
   "cell_type": "code",
   "execution_count": 55,
   "id": "55183259",
   "metadata": {},
   "outputs": [],
   "source": [
    "x = np.linspace(-2*np.pi, 2*np.pi, 200)\n",
    "sin_x = np.sin(x)\n",
    "cos_x = np.cos(x)"
   ]
  },
  {
   "cell_type": "code",
   "execution_count": 56,
   "id": "61a1ec0d",
   "metadata": {},
   "outputs": [
    {
     "data": {
      "image/png": "[encoded data removed]",
      "text/plain": [
       "<Figure size 576x432 with 1 Axes>"
      ]
     },
     "metadata": {
      "needs_background": "light"
     },
     "output_type": "display_data"
    }
   ],
   "source": [
    "plt.plot(x, sin_x)\n",
    "plt.plot(x, cos_x)\n",
    "plt.show()"
   ]
  },
  {
   "cell_type": "code",
   "execution_count": null,
   "id": "ea3045ad",
   "metadata": {},
   "outputs": [],
   "source": []
  }
 ],
 "metadata": {
  "kernelspec": {
   "display_name": "Python 3 (ipykernel)",
   "language": "python",
   "name": "python3"
  },
  "language_info": {
   "codemirror_mode": {
    "name": "ipython",
    "version": 3
   },
   "file_extension": ".py",
   "mimetype": "text/x-python",
   "name": "python",
   "nbconvert_exporter": "python",
   "pygments_lexer": "ipython3",
   "version": "3.9.4"
  }
 },
 "nbformat": 4,
 "nbformat_minor": 5
}
