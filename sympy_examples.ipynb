{
 "cells": [
  {
   "cell_type": "markdown",
   "id": "667d5bda",
   "metadata": {},
   "source": [
    "# Sympy - field guide\n",
    "\n",
    "Sympy is good for several uses:\n",
    "- Solving algebraic formulas symbolically\n",
    "- Calculus derivatives/integrals - symbolically\n",
    "- Generate LaTeX output or MathML"
   ]
  },
  {
   "cell_type": "code",
   "execution_count": 20,
   "id": "3f72db98",
   "metadata": {},
   "outputs": [],
   "source": [
    "from sympy import *"
   ]
  },
  {
   "cell_type": "markdown",
   "id": "be3e5ce5",
   "metadata": {},
   "source": [
    "# Basic Operations\n",
    "\n",
    "To use variables in an expression, set up the symbols using `symbols` function."
   ]
  },
  {
   "cell_type": "code",
   "execution_count": 3,
   "id": "a26f4571",
   "metadata": {},
   "outputs": [],
   "source": [
    "x, y = symbols(\"x y\")"
   ]
  },
  {
   "cell_type": "markdown",
   "id": "f6a68acb",
   "metadata": {},
   "source": [
    "These can now be used in expressions:"
   ]
  },
  {
   "cell_type": "code",
   "execution_count": 4,
   "id": "b2ad745c",
   "metadata": {},
   "outputs": [
    {
     "data": {
      "text/latex": [
       "$\\displaystyle 3 x + y$"
      ],
      "text/plain": [
       "3*x + y"
      ]
     },
     "execution_count": 4,
     "metadata": {},
     "output_type": "execute_result"
    }
   ],
   "source": [
    "x*3+y"
   ]
  },
  {
   "cell_type": "markdown",
   "id": "0a2cf67e",
   "metadata": {},
   "source": [
    "Expressions can be assigned to variables:"
   ]
  },
  {
   "cell_type": "code",
   "execution_count": 10,
   "id": "940a7608",
   "metadata": {},
   "outputs": [
    {
     "data": {
      "text/latex": [
       "$\\displaystyle 3 x + y$"
      ],
      "text/plain": [
       "3*x + y"
      ]
     },
     "execution_count": 10,
     "metadata": {},
     "output_type": "execute_result"
    }
   ],
   "source": [
    "eq = x*3+y\n",
    "eq"
   ]
  },
  {
   "cell_type": "markdown",
   "id": "7b5a0047",
   "metadata": {},
   "source": [
    "Use the subs method on an expression to substitute in variables:"
   ]
  },
  {
   "cell_type": "code",
   "execution_count": 12,
   "id": "0941e25f",
   "metadata": {},
   "outputs": [
    {
     "data": {
      "text/latex": [
       "$\\displaystyle 6$"
      ],
      "text/plain": [
       "6"
      ]
     },
     "execution_count": 12,
     "metadata": {},
     "output_type": "execute_result"
    }
   ],
   "source": [
    "eq.subs([(x, 1), (y,3)])"
   ]
  },
  {
   "cell_type": "markdown",
   "id": "c73c34a4",
   "metadata": {},
   "source": [
    "Sympy usually keeps numbers in exact representation.  To evaluate them numerically, use `N()`"
   ]
  },
  {
   "cell_type": "code",
   "execution_count": 14,
   "id": "cac79bc2",
   "metadata": {},
   "outputs": [
    {
     "data": {
      "text/latex": [
       "$\\displaystyle \\sqrt{2}$"
      ],
      "text/plain": [
       "sqrt(2)"
      ]
     },
     "execution_count": 14,
     "metadata": {},
     "output_type": "execute_result"
    }
   ],
   "source": [
    "j = sqrt(2)\n",
    "j"
   ]
  },
  {
   "cell_type": "code",
   "execution_count": 15,
   "id": "9aa6171f",
   "metadata": {},
   "outputs": [
    {
     "data": {
      "text/latex": [
       "$\\displaystyle 1.4142135623731$"
      ],
      "text/plain": [
       "1.41421356237310"
      ]
     },
     "execution_count": 15,
     "metadata": {},
     "output_type": "execute_result"
    }
   ],
   "source": [
    "N(j)"
   ]
  },
  {
   "cell_type": "markdown",
   "id": "4e6a11f0",
   "metadata": {},
   "source": [
    "Keeping ratios as ratios instead of numeric values (can't use variables in Rational):"
   ]
  },
  {
   "cell_type": "code",
   "execution_count": 18,
   "id": "cabba8a1",
   "metadata": {},
   "outputs": [
    {
     "data": {
      "text/latex": [
       "$\\displaystyle \\frac{2}{3}$"
      ],
      "text/plain": [
       "2/3"
      ]
     },
     "execution_count": 18,
     "metadata": {},
     "output_type": "execute_result"
    }
   ],
   "source": [
    "Rational(2,3)"
   ]
  },
  {
   "cell_type": "markdown",
   "id": "49ef0b08",
   "metadata": {},
   "source": [
    "# Solving Equations\n",
    "\n",
    "Using solve to find the roots of an equation.  Solve always returns an array since there can be mulitple solutions."
   ]
  },
  {
   "cell_type": "code",
   "execution_count": 38,
   "id": "c29326ac",
   "metadata": {},
   "outputs": [
    {
     "data": {
      "text/latex": [
       "$\\displaystyle - \\frac{7}{3}$"
      ],
      "text/plain": [
       "-7/3"
      ]
     },
     "execution_count": 38,
     "metadata": {},
     "output_type": "execute_result"
    }
   ],
   "source": [
    "solve(3*x+7, x)[0]"
   ]
  },
  {
   "cell_type": "code",
   "execution_count": 39,
   "id": "cf8e48f1",
   "metadata": {},
   "outputs": [
    {
     "data": {
      "text/latex": [
       "$\\displaystyle - \\frac{\\sqrt{21}}{3}$"
      ],
      "text/plain": [
       "-sqrt(21)/3"
      ]
     },
     "metadata": {},
     "output_type": "display_data"
    },
    {
     "data": {
      "text/latex": [
       "$\\displaystyle \\frac{\\sqrt{21}}{3}$"
      ],
      "text/plain": [
       "sqrt(21)/3"
      ]
     },
     "metadata": {},
     "output_type": "display_data"
    }
   ],
   "source": [
    "solutions = solve(3*x**2-7, x)\n",
    "for s in solutions:\n",
    "    display(s)"
   ]
  },
  {
   "cell_type": "code",
   "execution_count": null,
   "id": "3d609e52",
   "metadata": {},
   "outputs": [],
   "source": []
  }
 ],
 "metadata": {
  "kernelspec": {
   "display_name": "Python 3",
   "language": "python",
   "name": "python3"
  },
  "language_info": {
   "codemirror_mode": {
    "name": "ipython",
    "version": 3
   },
   "file_extension": ".py",
   "mimetype": "text/x-python",
   "name": "python",
   "nbconvert_exporter": "python",
   "pygments_lexer": "ipython3",
   "version": "3.9.4"
  }
 },
 "nbformat": 4,
 "nbformat_minor": 5
}
