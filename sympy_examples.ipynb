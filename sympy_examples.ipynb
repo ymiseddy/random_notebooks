{
 "cells": [
  {
   "cell_type": "markdown",
   "id": "667d5bda",
   "metadata": {},
   "source": [
    "# Sympy - field guide\n",
    "\n",
    "Sympy is good for several uses:\n",
    "- Solving algebraic formulas symbolically\n",
    "- Calculus derivatives/integrals - symbolically\n",
    "- Generate LaTeX output or MathML"
   ]
  },
  {
   "cell_type": "code",
   "execution_count": 13,
   "id": "3f72db98",
   "metadata": {},
   "outputs": [],
   "source": [
    "from sympy import *"
   ]
  },
  {
   "cell_type": "markdown",
   "id": "0e190681",
   "metadata": {},
   "source": [
    "## Symbols\n",
    "\n",
    "Variables in sympy expressions must be defined with the `symbols` function.   This maps\n",
    "these defined symbols into python variables which can then be used in expressions."
   ]
  },
  {
   "cell_type": "code",
   "execution_count": 31,
   "id": "4808a934",
   "metadata": {},
   "outputs": [],
   "source": [
    "x, y = symbols(\"x y\")"
   ]
  },
  {
   "cell_type": "markdown",
   "id": "851e9841",
   "metadata": {},
   "source": [
    "Greek letters can also be used as symbols."
   ]
  },
  {
   "cell_type": "code",
   "execution_count": 32,
   "id": "8533b428",
   "metadata": {},
   "outputs": [],
   "source": [
    "alpha,Alpha, beta, Beta, delta, Delta = symbols(\"alpha Alpha beta Beta delta Delta\")"
   ]
  },
  {
   "cell_type": "markdown",
   "id": "29f6b341",
   "metadata": {},
   "source": [
    "Symbols can be used in expressions.  This is useful for generating output text which\n",
    "can be copied as MathML or LaTeX code."
   ]
  },
  {
   "cell_type": "code",
   "execution_count": 34,
   "id": "2048fed4",
   "metadata": {},
   "outputs": [
    {
     "data": {
      "text/latex": [
       "$\\displaystyle 3 \\Delta x$"
      ],
      "text/plain": [
       "3*Delta*x"
      ]
     },
     "execution_count": 34,
     "metadata": {},
     "output_type": "execute_result"
    }
   ],
   "source": [
    "3*Delta*x"
   ]
  },
  {
   "cell_type": "markdown",
   "id": "be3e5ce5",
   "metadata": {},
   "source": [
    "# Basic Operations\n",
    "\n",
    "To use variables in an expression, set up the symbols using `symbols` function."
   ]
  },
  {
   "cell_type": "code",
   "execution_count": 14,
   "id": "a26f4571",
   "metadata": {},
   "outputs": [],
   "source": [
    "x, y = symbols(\"x y\")"
   ]
  },
  {
   "cell_type": "markdown",
   "id": "f6a68acb",
   "metadata": {},
   "source": [
    "These can now be used in expressions:"
   ]
  },
  {
   "cell_type": "code",
   "execution_count": 15,
   "id": "b2ad745c",
   "metadata": {},
   "outputs": [
    {
     "data": {
      "text/latex": [
       "$\\displaystyle 3 x + y$"
      ],
      "text/plain": [
       "3*x + y"
      ]
     },
     "execution_count": 15,
     "metadata": {},
     "output_type": "execute_result"
    }
   ],
   "source": [
    "x*3+y"
   ]
  },
  {
   "cell_type": "markdown",
   "id": "0a2cf67e",
   "metadata": {},
   "source": [
    "Expressions can be assigned to variables:"
   ]
  },
  {
   "cell_type": "code",
   "execution_count": 16,
   "id": "940a7608",
   "metadata": {},
   "outputs": [
    {
     "data": {
      "text/latex": [
       "$\\displaystyle 3 x + y$"
      ],
      "text/plain": [
       "3*x + y"
      ]
     },
     "execution_count": 16,
     "metadata": {},
     "output_type": "execute_result"
    }
   ],
   "source": [
    "eq = x*3+y\n",
    "eq"
   ]
  },
  {
   "cell_type": "markdown",
   "id": "7b5a0047",
   "metadata": {},
   "source": [
    "Use the subs method on an expression to substitute in variables:"
   ]
  },
  {
   "cell_type": "code",
   "execution_count": 17,
   "id": "0941e25f",
   "metadata": {},
   "outputs": [
    {
     "data": {
      "text/latex": [
       "$\\displaystyle 6$"
      ],
      "text/plain": [
       "6"
      ]
     },
     "execution_count": 17,
     "metadata": {},
     "output_type": "execute_result"
    }
   ],
   "source": [
    "eq.subs([(x, 1), (y,3)])"
   ]
  },
  {
   "cell_type": "markdown",
   "id": "c73c34a4",
   "metadata": {},
   "source": [
    "Sympy usually keeps numbers in exact representation.  To evaluate them numerically, use `N()`"
   ]
  },
  {
   "cell_type": "code",
   "execution_count": 18,
   "id": "cac79bc2",
   "metadata": {},
   "outputs": [
    {
     "data": {
      "text/latex": [
       "$\\displaystyle \\sqrt{2}$"
      ],
      "text/plain": [
       "sqrt(2)"
      ]
     },
     "execution_count": 18,
     "metadata": {},
     "output_type": "execute_result"
    }
   ],
   "source": [
    "j = sqrt(2)\n",
    "j"
   ]
  },
  {
   "cell_type": "code",
   "execution_count": 19,
   "id": "9aa6171f",
   "metadata": {},
   "outputs": [
    {
     "data": {
      "text/latex": [
       "$\\displaystyle 1.4142135623731$"
      ],
      "text/plain": [
       "1.41421356237310"
      ]
     },
     "execution_count": 19,
     "metadata": {},
     "output_type": "execute_result"
    }
   ],
   "source": [
    "N(j)"
   ]
  },
  {
   "cell_type": "markdown",
   "id": "4e6a11f0",
   "metadata": {},
   "source": [
    "Keeping ratios as ratios instead of numeric values (can't use variables in Rational):"
   ]
  },
  {
   "cell_type": "code",
   "execution_count": 20,
   "id": "cabba8a1",
   "metadata": {},
   "outputs": [
    {
     "data": {
      "text/latex": [
       "$\\displaystyle \\frac{2}{3}$"
      ],
      "text/plain": [
       "2/3"
      ]
     },
     "execution_count": 20,
     "metadata": {},
     "output_type": "execute_result"
    }
   ],
   "source": [
    "Rational(2,3)"
   ]
  },
  {
   "cell_type": "markdown",
   "id": "49ef0b08",
   "metadata": {},
   "source": [
    "# Solving Equations\n",
    "\n",
    "Using solve to find the roots of an equation.  Solve always returns an array since there can be mulitple solutions."
   ]
  },
  {
   "cell_type": "code",
   "execution_count": 21,
   "id": "c29326ac",
   "metadata": {},
   "outputs": [
    {
     "data": {
      "text/latex": [
       "$\\displaystyle - \\frac{7}{3}$"
      ],
      "text/plain": [
       "-7/3"
      ]
     },
     "execution_count": 21,
     "metadata": {},
     "output_type": "execute_result"
    }
   ],
   "source": [
    "solve(3*x+7, x)[0]"
   ]
  },
  {
   "cell_type": "code",
   "execution_count": 22,
   "id": "cf8e48f1",
   "metadata": {},
   "outputs": [
    {
     "data": {
      "text/latex": [
       "$\\displaystyle - \\frac{\\sqrt{21}}{3}$"
      ],
      "text/plain": [
       "-sqrt(21)/3"
      ]
     },
     "metadata": {},
     "output_type": "display_data"
    },
    {
     "data": {
      "text/latex": [
       "$\\displaystyle \\frac{\\sqrt{21}}{3}$"
      ],
      "text/plain": [
       "sqrt(21)/3"
      ]
     },
     "metadata": {},
     "output_type": "display_data"
    }
   ],
   "source": [
    "solutions = solve(3*x**2-7, x)\n",
    "for s in solutions:\n",
    "    display(s)"
   ]
  },
  {
   "cell_type": "markdown",
   "id": "9cbc3ba7",
   "metadata": {},
   "source": [
    "Some solutions have multiple answers, in this case the results will return an array:"
   ]
  },
  {
   "cell_type": "code",
   "execution_count": 55,
   "id": "723e6f19",
   "metadata": {},
   "outputs": [
    {
     "data": {
      "text/plain": [
       "[(-b + sqrt(-4*a*c + b**2))/(2*a), -(b + sqrt(-4*a*c + b**2))/(2*a)]"
      ]
     },
     "execution_count": 55,
     "metadata": {},
     "output_type": "execute_result"
    }
   ],
   "source": [
    "a,b,c = symbols(\"a b c\")\n",
    "quadratic_equation = solve(a*x**2+b*x+c, x)\n",
    "quadratic_equation"
   ]
  },
  {
   "cell_type": "markdown",
   "id": "0b65ff16",
   "metadata": {},
   "source": [
    "To display individual parts, you can access elements of the array:"
   ]
  },
  {
   "cell_type": "code",
   "execution_count": 56,
   "id": "c3255471",
   "metadata": {},
   "outputs": [
    {
     "data": {
      "text/latex": [
       "$\\displaystyle \\frac{- b + \\sqrt{- 4 a c + b^{2}}}{2 a}$"
      ],
      "text/plain": [
       "(-b + sqrt(-4*a*c + b**2))/(2*a)"
      ]
     },
     "execution_count": 56,
     "metadata": {},
     "output_type": "execute_result"
    }
   ],
   "source": [
    "quadratic_equation[0]"
   ]
  },
  {
   "cell_type": "code",
   "execution_count": 57,
   "id": "9487767b",
   "metadata": {},
   "outputs": [
    {
     "data": {
      "text/latex": [
       "$\\displaystyle - \\frac{b + \\sqrt{- 4 a c + b^{2}}}{2 a}$"
      ],
      "text/plain": [
       "-(b + sqrt(-4*a*c + b**2))/(2*a)"
      ]
     },
     "execution_count": 57,
     "metadata": {},
     "output_type": "execute_result"
    }
   ],
   "source": [
    "quadratic_equation[1]"
   ]
  },
  {
   "cell_type": "markdown",
   "id": "ccdb5cb9",
   "metadata": {},
   "source": [
    "General powers and roots:"
   ]
  },
  {
   "cell_type": "code",
   "execution_count": 85,
   "id": "6f9afa2c",
   "metadata": {},
   "outputs": [
    {
     "data": {
      "text/latex": [
       "$\\displaystyle \\sqrt{\\left(x_{1} - x_{2}\\right)^{2} + \\left(y_{1} - y_{2}\\right)^{2}}$"
      ],
      "text/plain": [
       "sqrt((x_1 - x_2)**2 + (y_1 - y_2)**2)"
      ]
     },
     "execution_count": 85,
     "metadata": {},
     "output_type": "execute_result"
    }
   ],
   "source": [
    "sqrt((x_1 - x_2)**2 + (y_1-y_2)**2)"
   ]
  },
  {
   "cell_type": "code",
   "execution_count": 84,
   "id": "92673baa",
   "metadata": {},
   "outputs": [],
   "source": [
    "x_1, x_2, y_1, y_2, n = symbols(\"x_1 x_2 y_1 y_2 n\")"
   ]
  },
  {
   "cell_type": "code",
   "execution_count": 86,
   "id": "a7b859d0",
   "metadata": {
    "scrolled": true
   },
   "outputs": [
    {
     "data": {
      "text/latex": [
       "$\\displaystyle \\sqrt[3]{\\left|{x_{1} - x_{2}}\\right|^{3} + \\left|{y_{1} - y_{2}}\\right|^{3}}$"
      ],
      "text/plain": [
       "(Abs(x_1 - x_2)**3 + Abs(y_1 - y_2)**3)**(1/3)"
      ]
     },
     "execution_count": 86,
     "metadata": {},
     "output_type": "execute_result"
    }
   ],
   "source": [
    "root((abs((x_1 - x_2))**3 + abs((y_1-y_2))**3), 3)"
   ]
  },
  {
   "cell_type": "code",
   "execution_count": 95,
   "id": "d73b3e89",
   "metadata": {
    "scrolled": false
   },
   "outputs": [
    {
     "data": {
      "text/latex": [
       "$\\displaystyle \\left(\\left|{x_{1} - x_{2}}\\right|^{n} + \\left|{y_{1} - y_{2}}\\right|^{n}\\right)^{\\frac{1}{n}}$"
      ],
      "text/plain": [
       "(Abs(x_1 - x_2)**n + Abs(y_1 - y_2)**n)**(1/n)"
      ]
     },
     "execution_count": 95,
     "metadata": {},
     "output_type": "execute_result"
    }
   ],
   "source": [
    "root((abs((x_1 - x_2))**n + abs((y_1-y_2))**n), n)"
   ]
  },
  {
   "cell_type": "markdown",
   "id": "30380995",
   "metadata": {},
   "source": [
    "## Calculus\n",
    "\n",
    "Derivatives can also be expressed using symbols:"
   ]
  },
  {
   "cell_type": "code",
   "execution_count": 44,
   "id": "d7cfed7b",
   "metadata": {},
   "outputs": [
    {
     "data": {
      "text/latex": [
       "$\\displaystyle \\frac{d}{d x} 3 x^{2}$"
      ],
      "text/plain": [
       "Derivative(3*x**2, x)"
      ]
     },
     "execution_count": 44,
     "metadata": {},
     "output_type": "execute_result"
    }
   ],
   "source": [
    "Derivative(3*x**2,x)"
   ]
  },
  {
   "cell_type": "markdown",
   "id": "bd96f651",
   "metadata": {},
   "source": [
    "To evaluate the derivative, use the `doit()` method:"
   ]
  },
  {
   "cell_type": "code",
   "execution_count": 45,
   "id": "b569ba3d",
   "metadata": {},
   "outputs": [
    {
     "data": {
      "text/latex": [
       "$\\displaystyle 6 x$"
      ],
      "text/plain": [
       "6*x"
      ]
     },
     "execution_count": 45,
     "metadata": {},
     "output_type": "execute_result"
    }
   ],
   "source": [
    "Derivative(3*x**2,x).doit()"
   ]
  },
  {
   "cell_type": "markdown",
   "id": "e1193914",
   "metadata": {},
   "source": [
    "Partial derivatives can also be used:"
   ]
  },
  {
   "cell_type": "code",
   "execution_count": 46,
   "id": "2883159d",
   "metadata": {},
   "outputs": [
    {
     "data": {
      "text/latex": [
       "$\\displaystyle \\frac{\\partial}{\\partial x} \\left(3 x^{2} + y^{2}\\right)$"
      ],
      "text/plain": [
       "Derivative(3*x**2 + y**2, x)"
      ]
     },
     "execution_count": 46,
     "metadata": {},
     "output_type": "execute_result"
    }
   ],
   "source": [
    "Derivative(3*x**2 + y**2, x)"
   ]
  },
  {
   "cell_type": "code",
   "execution_count": 51,
   "id": "bbd3d214",
   "metadata": {},
   "outputs": [
    {
     "data": {
      "text/latex": [
       "$\\displaystyle \\frac{\\partial}{\\partial y} \\left(3 x^{2} + y^{2}\\right)$"
      ],
      "text/plain": [
       "Derivative(3*x**2 + y**2, y)"
      ]
     },
     "execution_count": 51,
     "metadata": {},
     "output_type": "execute_result"
    }
   ],
   "source": [
    "Derivative(3*x**2 + y**2, y)"
   ]
  },
  {
   "cell_type": "markdown",
   "id": "27acff10",
   "metadata": {},
   "source": [
    "Like derivatives, integrals can be expressed (note, it does not automatically add the constant factor):"
   ]
  },
  {
   "cell_type": "code",
   "execution_count": 58,
   "id": "1e63eaa2",
   "metadata": {},
   "outputs": [
    {
     "data": {
      "text/latex": [
       "$\\displaystyle \\int x^{3}\\, dx$"
      ],
      "text/plain": [
       "Integral(x**3, x)"
      ]
     },
     "execution_count": 58,
     "metadata": {},
     "output_type": "execute_result"
    }
   ],
   "source": [
    "Integral(x**3,x)"
   ]
  },
  {
   "cell_type": "markdown",
   "id": "80f878db",
   "metadata": {},
   "source": [
    "Definite intervals can also be shown.  Note the variable and the limits are packed into a tupple (infinity is represented as oo):"
   ]
  },
  {
   "cell_type": "code",
   "execution_count": 69,
   "id": "fdb856f9",
   "metadata": {},
   "outputs": [
    {
     "data": {
      "text/latex": [
       "$\\displaystyle \\int\\limits_{0}^{\\infty} x^{3}\\, dx$"
      ],
      "text/plain": [
       "Integral(x**3, (x, 0, oo))"
      ]
     },
     "execution_count": 69,
     "metadata": {},
     "output_type": "execute_result"
    }
   ],
   "source": [
    "Integral(x**3, (x, 0, oo))"
   ]
  },
  {
   "cell_type": "code",
   "execution_count": null,
   "id": "108e9085",
   "metadata": {},
   "outputs": [],
   "source": []
  },
  {
   "cell_type": "code",
   "execution_count": null,
   "id": "b2dbaa11",
   "metadata": {},
   "outputs": [],
   "source": []
  }
 ],
 "metadata": {
  "kernelspec": {
   "display_name": "Python 3",
   "language": "python",
   "name": "python3"
  },
  "language_info": {
   "codemirror_mode": {
    "name": "ipython",
    "version": 3
   },
   "file_extension": ".py",
   "mimetype": "text/x-python",
   "name": "python",
   "nbconvert_exporter": "python",
   "pygments_lexer": "ipython3",
   "version": "3.9.4"
  }
 },
 "nbformat": 4,
 "nbformat_minor": 5
}
