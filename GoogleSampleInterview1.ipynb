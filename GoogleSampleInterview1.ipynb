{
 "cells": [
  {
   "cell_type": "markdown",
   "id": "c6e09f85",
   "metadata": {},
   "source": [
    "# Find the squares in a list of points\n",
    "\n",
    "This was a sample Google interview question to which I challenged myself to find\n",
    "the solution.  It was an interesting problem.\n",
    "\n",
    "The interviewer initially allowed the candidate to simplify the problem to just\n",
    "squares perpendicular to the x axis.  I'm not sure this limitation really makes\n",
    "this problem that much easier.\n",
    "\n",
    "Importing numpy, sympy and itertoools as well as matplotlib (for charting the\n",
    "resulting points to gut check) and setting up some styles."
   ]
  },
  {
   "cell_type": "code",
   "execution_count": 2,
   "id": "6952fad8",
   "metadata": {},
   "outputs": [],
   "source": [
    "import numpy as np\n",
    "import sympy as sp\n",
    "import itertools as it\n",
    "import matplotlib.pyplot as plt\n",
    "plt.style.use([\"science\", \"notebook\", \"grid\"])"
   ]
  },
  {
   "cell_type": "markdown",
   "id": "b10ce044",
   "metadata": {},
   "source": [
    "## The Search Space\n",
    "\n",
    "For this, I'm including a search space with some points along which contains\n",
    "two squares perpendicular to the x-axis as well as one which is 45 degrees from\n",
    "the x-axis;  The solution should find any squares in the search space though."
   ]
  },
  {
   "cell_type": "code",
   "execution_count": 146,
   "id": "8a509f05",
   "metadata": {},
   "outputs": [],
   "source": [
    "space = np.array(\n",
    "    [ [1, 1], [0, 0], [2, 0], [-1, 1], [4, 6], [5, 1], [3, 2], [1, 7], [1, 2], [2,2], [2,1], [0,2]])"
   ]
  },
  {
   "cell_type": "markdown",
   "id": "112f85df",
   "metadata": {},
   "source": [
    "## The approach\n",
    "\n",
    "To approach this problem, we *could* do all combinations of 4 points in the set to see if they\n",
    "the resulting segments are perpendicular to each other; however, it may be more efficient to\n",
    "just take combinations of two points and look to see if the perpendicular points are also in\n",
    "the search space - if so, we know we have a square.\n",
    "\n",
    "## Some setup\n",
    "\n",
    "I'm going to define two rotation matricies - one to rotate 90 degrees counter clockwise and the\n",
    "other to rotate 90 degrees clockwise."
   ]
  },
  {
   "cell_type": "code",
   "execution_count": 147,
   "id": "60186027",
   "metadata": {},
   "outputs": [
    {
     "data": {
      "text/latex": [
       "$\\displaystyle \\left[\\begin{matrix}0 & -1\\\\1 & 0\\end{matrix}\\right]$"
      ],
      "text/plain": [
       "Matrix([\n",
       "[0, -1],\n",
       "[1,  0]])"
      ]
     },
     "execution_count": 147,
     "metadata": {},
     "output_type": "execute_result"
    }
   ],
   "source": [
    "rot_cc = np.array([[0, -1], \n",
    "                   [1, 0]])\n",
    "sp.Matrix(rot_cc)"
   ]
  },
  {
   "cell_type": "markdown",
   "id": "51982d49",
   "metadata": {},
   "source": [
    "The counterclockwise matrix works because the X-unit vector (1, 0) would should be rotated\n",
    "to (0, 1) and the Y-unit vector should be rotated to (-1, 0).\n",
    "\n",
    "The clockwise rotation matrix should be the transposition of this:"
   ]
  },
  {
   "cell_type": "code",
   "execution_count": 148,
   "id": "fe6a7985",
   "metadata": {},
   "outputs": [
    {
     "data": {
      "text/latex": [
       "$\\displaystyle \\left[\\begin{matrix}0 & 1\\\\-1 & 0\\end{matrix}\\right]$"
      ],
      "text/plain": [
       "Matrix([\n",
       "[ 0, 1],\n",
       "[-1, 0]])"
      ]
     },
     "execution_count": 148,
     "metadata": {},
     "output_type": "execute_result"
    }
   ],
   "source": [
    "rot_cw = rot_cc.T\n",
    "sp.Matrix(rot_cw)"
   ]
  },
  {
   "cell_type": "markdown",
   "id": "2dd31710",
   "metadata": {},
   "source": [
    "## Finding the Squares Function\n",
    "\n",
    "In this case, we are going to create a generator function which takes\n",
    "the search space and will iteratively return the points of any square\n",
    "it finds in the search space.\n",
    "\n",
    "We create a list to hold any squares we report to prevent it from \n",
    "being re-reported when the one of the other segments are checked.\n",
    "\n",
    "*NOTE: we need to check the others as well since they could be a \n",
    "shared segment between two squares.*\n",
    "\n",
    "We use the itertools library combinations function to get all \n",
    "choose 2 combinations from the search space (no repeats).\n",
    "\n",
    "Then we iterate over each combination.\n",
    "\n",
    "First we compute the other participating points in the square\n",
    "(t1 and t2) by subtracting p2 from p2, computing the dot\n",
    "product with the clockwise rotation and then adding p2 back\n",
    "to the resulting point.  We do the same with p2 - p1 to get the\n",
    "other participating point.\n",
    "\n",
    "From there, we just check if the new points are in the list or not.\n",
    "\n",
    "The `found_set` variable gives us a way to sort the points as a \n",
    "set by the x then y axis - since other segments in the square would\n",
    "result in the same set.   We then add this to our reported array\n",
    "so this square isn't reported multiple times."
   ]
  },
  {
   "cell_type": "code",
   "execution_count": 149,
   "id": "daf9b39c",
   "metadata": {},
   "outputs": [],
   "source": [
    "def find_squares(ss):\n",
    "\n",
    "    # Keep track of squares we have reported.\n",
    "    reported = []\n",
    "    \n",
    "    # Unique combinations of pairs of points.\n",
    "    sp = it.combinations(ss, r=2)\n",
    "    \n",
    "    for idx, (p1, p2) in enumerate(sp):\n",
    "        t1 = (rot_cw @ (p1-p2)) + p2\n",
    "        t2 = (rot_cc @ (p2-p1)) + p1\n",
    "        if (t1.tolist() in ss.tolist()) and (t2.tolist() in ss.tolist()):\n",
    "            points = np.array([p1, p2, t1, t2])\n",
    "            found_set = set(sorted(set([tuple(p) for p in points])))\n",
    "            if (found_set in reported):\n",
    "                continue\n",
    "            reported.append(found_set)\n",
    "            yield points"
   ]
  },
  {
   "cell_type": "markdown",
   "id": "f76f2419",
   "metadata": {},
   "source": [
    "Now that we have our generator function, we can call it on our\n",
    "search space displaying the found points in the square and plotting\n",
    "them using matplotlib to verify they do in fact show a square.  We\n",
    "are leaving the final segment off for simplicity; to add it, \n",
    "we would just append the original point to the end of the x and\n",
    "y series."
   ]
  },
  {
   "cell_type": "code",
   "execution_count": 152,
   "id": "e4d722c5",
   "metadata": {},
   "outputs": [
    {
     "data": {
      "text/latex": [
       "$\\displaystyle \\left[\\begin{matrix}1 & 1\\\\2 & 1\\\\2 & 2\\\\1 & 2\\end{matrix}\\right]$"
      ],
      "text/plain": [
       "Matrix([\n",
       "[1, 1],\n",
       "[2, 1],\n",
       "[2, 2],\n",
       "[1, 2]])"
      ]
     },
     "metadata": {},
     "output_type": "display_data"
    },
    {
     "data": {
      "image/png": "[encoded data removed]",
      "text/plain": [
       "<Figure size 576x432 with 1 Axes>"
      ]
     },
     "metadata": {
      "needs_background": "light"
     },
     "output_type": "display_data"
    },
    {
     "data": {
      "text/latex": [
       "$\\displaystyle \\left[\\begin{matrix}1 & 1\\\\0 & 2\\\\-1 & 1\\\\0 & 0\\end{matrix}\\right]$"
      ],
      "text/plain": [
       "Matrix([\n",
       "[ 1, 1],\n",
       "[ 0, 2],\n",
       "[-1, 1],\n",
       "[ 0, 0]])"
      ]
     },
     "metadata": {},
     "output_type": "display_data"
    },
    {
     "data": {
      "image/png": "[encoded data removed]",
      "text/plain": [
       "<Figure size 576x432 with 1 Axes>"
      ]
     },
     "metadata": {
      "needs_background": "light"
     },
     "output_type": "display_data"
    },
    {
     "data": {
      "text/latex": [
       "$\\displaystyle \\left[\\begin{matrix}0 & 0\\\\2 & 0\\\\2 & 2\\\\0 & 2\\end{matrix}\\right]$"
      ],
      "text/plain": [
       "Matrix([\n",
       "[0, 0],\n",
       "[2, 0],\n",
       "[2, 2],\n",
       "[0, 2]])"
      ]
     },
     "metadata": {},
     "output_type": "display_data"
    },
    {
     "data": {
      "image/png": "[encoded data removed]",
      "text/plain": [
       "<Figure size 576x432 with 1 Axes>"
      ]
     },
     "metadata": {
      "needs_background": "light"
     },
     "output_type": "display_data"
    }
   ],
   "source": [
    "for square in find_squares(space):\n",
    "    display(sp.Matrix(square))\n",
    "    x = square[:, 0]\n",
    "    y = square[:, 1]\n",
    "    plt.gca().set_aspect('equal', adjustable='box')\n",
    "    plt.plot(x, y, \"o-\")\n",
    "    plt.show()"
   ]
  },
  {
   "cell_type": "code",
   "execution_count": null,
   "id": "67a47920",
   "metadata": {},
   "outputs": [],
   "source": []
  },
  {
   "cell_type": "code",
   "execution_count": null,
   "id": "a5abe2d3",
   "metadata": {},
   "outputs": [],
   "source": []
  }
 ],
 "metadata": {
  "kernelspec": {
   "display_name": "Python 3 (ipykernel)",
   "language": "python",
   "name": "python3"
  },
  "language_info": {
   "codemirror_mode": {
    "name": "ipython",
    "version": 3
   },
   "file_extension": ".py",
   "mimetype": "text/x-python",
   "name": "python",
   "nbconvert_exporter": "python",
   "pygments_lexer": "ipython3",
   "version": "3.9.4"
  }
 },
 "nbformat": 4,
 "nbformat_minor": 5
}
