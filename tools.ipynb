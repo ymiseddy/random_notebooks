{
 "cells": [
  {
   "cell_type": "code",
   "execution_count": 1,
   "id": "e3c34f7b-3d0a-4d11-a490-d95e62331175",
   "metadata": {},
   "outputs": [],
   "source": [
    "import numpy as np\n",
    "import matplotlib.pyplot as plt\n",
    "import sympy as sp"
   ]
  },
  {
   "cell_type": "code",
   "execution_count": 10,
   "id": "8193b700-e312-458f-b376-d0c8ed865aea",
   "metadata": {},
   "outputs": [],
   "source": [
    "def fnplot(fn, start=-1, end=1, steps=100):\n",
    "    x = np.linspace(start, end, steps)\n",
    "    y = [fn(r) for r in x]\n",
    "    plt.plot(x, y)\n",
    "    plt.show()"
   ]
  }
 ],
 "metadata": {
  "kernelspec": {
   "display_name": "Python 3 (ipykernel)",
   "language": "python",
   "name": "python3"
  },
  "language_info": {
   "codemirror_mode": {
    "name": "ipython",
    "version": 3
   },
   "file_extension": ".py",
   "mimetype": "text/x-python",
   "name": "python",
   "nbconvert_exporter": "python",
   "pygments_lexer": "ipython3",
   "version": "3.10.6"
  }
 },
 "nbformat": 4,
 "nbformat_minor": 5
}
