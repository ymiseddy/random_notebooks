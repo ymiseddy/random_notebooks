{
 "cells": [
  {
   "cell_type": "markdown",
   "id": "c3fc91a6",
   "metadata": {},
   "source": [
    "# Quantum Computing Math\n",
    "\n",
    "My notes on quantum computing math based on:\n",
    "\n",
    "https://www.youtube.com/watch?v=F_Riqjdh2oM\n",
    "\n",
    "using sympy and numpy."
   ]
  },
  {
   "cell_type": "code",
   "execution_count": 95,
   "id": "0a64208f",
   "metadata": {},
   "outputs": [],
   "source": [
    "import numpy as np\n",
    "import sympy as sp\n",
    "from sympy.physics.quantum import TensorProduct"
   ]
  },
  {
   "cell_type": "markdown",
   "id": "1772a8fb",
   "metadata": {},
   "source": [
    "## Representation of Bits in Quantum\n",
    "\n",
    "To represent a 0 bit:\n",
    "\n",
    "$\n",
    "\\displaystyle \\left[\\begin{matrix}1\\\\0\\end{matrix}\\right]\n",
    "$\n",
    "\n",
    "To representa 1 bit:\n",
    "\n",
    "$\n",
    "\\displaystyle \\left[\\begin{matrix}0\\\\1\\end{matrix}\\right]\n",
    "$\n",
    "\n",
    "### brak-et notation:\n",
    "Shorthand for the matrix representation:\n",
    "\n",
    "1-bit\n",
    "$\n",
    "|1>\n",
    "$\n",
    "\n",
    "0-bit:\n",
    "$\n",
    "|0>\n",
    "$\n",
    "\n",
    "In numpy as:"
   ]
  },
  {
   "cell_type": "code",
   "execution_count": 2,
   "id": "0562e705",
   "metadata": {},
   "outputs": [],
   "source": [
    "q0 = np.array([1, 0])\n",
    "q1 = np.array([0, 1])"
   ]
  },
  {
   "cell_type": "markdown",
   "id": "7273c8fc",
   "metadata": {},
   "source": [
    "## Matrix Representation of classic single-bit operations\n",
    "\n",
    "Just to show how classic operations on the bit representations would be done,\n",
    "the following are the matrix representation of the classic single-bit operations:\n",
    "\n",
    "Constant 1:\n",
    "$\n",
    "\\displaystyle \\left[\\begin{matrix}0 & 0\\\\1 & 1\\end{matrix}\\right]\n",
    "$\n",
    "\n",
    "Constant 0:\n",
    "$\n",
    "\\displaystyle \\left[\\begin{matrix}1 & 1\\\\0 & 0\\end{matrix}\\right]\n",
    "$\n",
    "\n",
    "Negate:\n",
    "$\n",
    "\\displaystyle \\left[\\begin{matrix}0 & 1\\\\1 & 0\\end{matrix}\\right]\n",
    "$\n",
    "\n",
    "Identity:\n",
    "$\n",
    "\\displaystyle \\left[\\begin{matrix}1 & 0\\\\0 & 1\\end{matrix}\\right]\n",
    "$"
   ]
  },
  {
   "cell_type": "code",
   "execution_count": 22,
   "id": "04e20464",
   "metadata": {},
   "outputs": [],
   "source": [
    "set1 = np.array([[0,0], [1,1]])\n",
    "set0 = np.array([[1,1], [0,0]])\n",
    "negate = np.array([[0, 1], [1, 0]])\n",
    "identity = np.array([[1, 0], [0, 1]])"
   ]
  },
  {
   "cell_type": "markdown",
   "id": "7f58157f",
   "metadata": {},
   "source": [
    "### Using tensor products to perform operations:"
   ]
  },
  {
   "cell_type": "code",
   "execution_count": 33,
   "id": "0e59402e",
   "metadata": {},
   "outputs": [
    {
     "data": {
      "text/latex": [
       "$\\displaystyle \\left[\\begin{matrix}0\\\\1\\end{matrix}\\right]$"
      ],
      "text/plain": [
       "Matrix([\n",
       "[0],\n",
       "[1]])"
      ]
     },
     "metadata": {},
     "output_type": "display_data"
    },
    {
     "data": {
      "text/latex": [
       "$\\displaystyle \\left[\\begin{matrix}0\\\\1\\end{matrix}\\right]$"
      ],
      "text/plain": [
       "Matrix([\n",
       "[0],\n",
       "[1]])"
      ]
     },
     "execution_count": 33,
     "metadata": {},
     "output_type": "execute_result"
    }
   ],
   "source": [
    "display(sp.Matrix(np.tensordot(set1, q0, axes=1)))\n",
    "sp.Matrix(np.tensordot(set1, q1, axes=1))"
   ]
  },
  {
   "cell_type": "code",
   "execution_count": 34,
   "id": "e28fe93e",
   "metadata": {},
   "outputs": [
    {
     "data": {
      "text/latex": [
       "$\\displaystyle \\left[\\begin{matrix}1\\\\0\\end{matrix}\\right]$"
      ],
      "text/plain": [
       "Matrix([\n",
       "[1],\n",
       "[0]])"
      ]
     },
     "metadata": {},
     "output_type": "display_data"
    },
    {
     "data": {
      "text/latex": [
       "$\\displaystyle \\left[\\begin{matrix}1\\\\0\\end{matrix}\\right]$"
      ],
      "text/plain": [
       "Matrix([\n",
       "[1],\n",
       "[0]])"
      ]
     },
     "execution_count": 34,
     "metadata": {},
     "output_type": "execute_result"
    }
   ],
   "source": [
    "display(sp.Matrix(np.tensordot(set0, q0, axes=1)))\n",
    "sp.Matrix(np.tensordot(set0, q1, axes=1))"
   ]
  },
  {
   "cell_type": "code",
   "execution_count": 35,
   "id": "9fee473d",
   "metadata": {},
   "outputs": [
    {
     "data": {
      "text/latex": [
       "$\\displaystyle \\left[\\begin{matrix}0\\\\1\\end{matrix}\\right]$"
      ],
      "text/plain": [
       "Matrix([\n",
       "[0],\n",
       "[1]])"
      ]
     },
     "metadata": {},
     "output_type": "display_data"
    },
    {
     "data": {
      "text/latex": [
       "$\\displaystyle \\left[\\begin{matrix}1\\\\0\\end{matrix}\\right]$"
      ],
      "text/plain": [
       "Matrix([\n",
       "[1],\n",
       "[0]])"
      ]
     },
     "execution_count": 35,
     "metadata": {},
     "output_type": "execute_result"
    }
   ],
   "source": [
    "display(sp.Matrix(np.tensordot(negate, q0, axes=1)))\n",
    "sp.Matrix(np.tensordot(negate, q1, axes=1))"
   ]
  },
  {
   "cell_type": "code",
   "execution_count": 36,
   "id": "4ab67357",
   "metadata": {},
   "outputs": [
    {
     "data": {
      "text/latex": [
       "$\\displaystyle \\left[\\begin{matrix}1\\\\0\\end{matrix}\\right]$"
      ],
      "text/plain": [
       "Matrix([\n",
       "[1],\n",
       "[0]])"
      ]
     },
     "metadata": {},
     "output_type": "display_data"
    },
    {
     "data": {
      "text/latex": [
       "$\\displaystyle \\left[\\begin{matrix}0\\\\1\\end{matrix}\\right]$"
      ],
      "text/plain": [
       "Matrix([\n",
       "[0],\n",
       "[1]])"
      ]
     },
     "execution_count": 36,
     "metadata": {},
     "output_type": "execute_result"
    }
   ],
   "source": [
    "display(sp.Matrix(np.tensordot(identity, q0, axes=1)))\n",
    "sp.Matrix(np.tensordot(identity, q1, axes=1))"
   ]
  },
  {
   "cell_type": "markdown",
   "id": "350201be",
   "metadata": {},
   "source": [
    "## Quantum Operations\n",
    "\n",
    "Quantum operations all have two properties:\n",
    "1. They are always reversible\n",
    "2. They are always reversible by the same operation.\n",
    "\n",
    "Note: constant operations are not reversible.\n",
    "\n",
    "### Representing multiple q-bits\n",
    "\n",
    "To represent multiple q-bits, we take the classical representation of the bits and \n",
    "tensor product them together.\n",
    "\n",
    "\n",
    "Note: with numpy, we always need to reshape to get back to single matrix representation.\n",
    "\n",
    "Notice how the position of the 1 in the following matricies switches to represent \n",
    "combinations of two qbits:\n",
    "\n",
    "$ |00> $"
   ]
  },
  {
   "cell_type": "code",
   "execution_count": 47,
   "id": "c7bfd62d",
   "metadata": {},
   "outputs": [
    {
     "data": {
      "text/latex": [
       "$\\displaystyle \\left[\\begin{matrix}1\\\\0\\\\0\\\\0\\end{matrix}\\right]$"
      ],
      "text/plain": [
       "Matrix([\n",
       "[1],\n",
       "[0],\n",
       "[0],\n",
       "[0]])"
      ]
     },
     "execution_count": 47,
     "metadata": {},
     "output_type": "execute_result"
    }
   ],
   "source": [
    "sp.Matrix(np.tensordot(q0, q0, axes=0).reshape(4))"
   ]
  },
  {
   "cell_type": "markdown",
   "id": "9927fe8e",
   "metadata": {},
   "source": [
    "$ |01> $"
   ]
  },
  {
   "cell_type": "code",
   "execution_count": 48,
   "id": "38cc9f4e",
   "metadata": {},
   "outputs": [
    {
     "data": {
      "text/latex": [
       "$\\displaystyle \\left[\\begin{matrix}0\\\\1\\\\0\\\\0\\end{matrix}\\right]$"
      ],
      "text/plain": [
       "Matrix([\n",
       "[0],\n",
       "[1],\n",
       "[0],\n",
       "[0]])"
      ]
     },
     "execution_count": 48,
     "metadata": {},
     "output_type": "execute_result"
    }
   ],
   "source": [
    "sp.Matrix(np.tensordot(q0, q1, axes=0).reshape(4))"
   ]
  },
  {
   "cell_type": "markdown",
   "id": "89f01df3",
   "metadata": {},
   "source": [
    "$ |10> $"
   ]
  },
  {
   "cell_type": "code",
   "execution_count": 49,
   "id": "b042ac19",
   "metadata": {},
   "outputs": [
    {
     "data": {
      "text/latex": [
       "$\\displaystyle \\left[\\begin{matrix}0\\\\0\\\\1\\\\0\\end{matrix}\\right]$"
      ],
      "text/plain": [
       "Matrix([\n",
       "[0],\n",
       "[0],\n",
       "[1],\n",
       "[0]])"
      ]
     },
     "execution_count": 49,
     "metadata": {},
     "output_type": "execute_result"
    }
   ],
   "source": [
    "sp.Matrix(np.tensordot(q1, q0, axes=0).reshape(4))"
   ]
  },
  {
   "cell_type": "markdown",
   "id": "a696eeb1",
   "metadata": {},
   "source": [
    "$ |11> $"
   ]
  },
  {
   "cell_type": "code",
   "execution_count": 50,
   "id": "cbb7e58d",
   "metadata": {},
   "outputs": [
    {
     "data": {
      "text/latex": [
       "$\\displaystyle \\left[\\begin{matrix}0\\\\0\\\\0\\\\1\\end{matrix}\\right]$"
      ],
      "text/plain": [
       "Matrix([\n",
       "[0],\n",
       "[0],\n",
       "[0],\n",
       "[1]])"
      ]
     },
     "execution_count": 50,
     "metadata": {},
     "output_type": "execute_result"
    }
   ],
   "source": [
    "sp.Matrix(np.tensordot(q1, q1, axes=0).reshape(4))"
   ]
  },
  {
   "cell_type": "markdown",
   "id": "9df1df08",
   "metadata": {},
   "source": [
    "Note how the number of digits expands exponentially as we add another q-bit - this hints at \n",
    "the power of quantum computing."
   ]
  },
  {
   "cell_type": "code",
   "execution_count": 56,
   "id": "ebee059c",
   "metadata": {},
   "outputs": [
    {
     "data": {
      "text/latex": [
       "$\\displaystyle \\left[\\begin{matrix}0\\\\1\\\\0\\\\0\\\\0\\\\0\\\\0\\\\0\\end{matrix}\\right]$"
      ],
      "text/plain": [
       "Matrix([\n",
       "[0],\n",
       "[1],\n",
       "[0],\n",
       "[0],\n",
       "[0],\n",
       "[0],\n",
       "[0],\n",
       "[0]])"
      ]
     },
     "execution_count": 56,
     "metadata": {},
     "output_type": "execute_result"
    }
   ],
   "source": [
    "sp.Matrix(np.tensordot(q0, np.tensordot(q0, q1, axes=0).reshape(4), axes=0).reshape(8))"
   ]
  },
  {
   "cell_type": "markdown",
   "id": "4d2f0461",
   "metadata": {},
   "source": [
    "## CNOT operation\n",
    "\n",
    "* Operates on pairs of bits - the first is the control bit. The second is the target bit.\n",
    "* If the control bit is 1, the second bit is flipped\n",
    "* If the control bit is 0, the second bit is unchanged\n",
    "* The control bit is always unchanged\n",
    "* Most significant is the control, least significant is the target\n",
    "\n",
    "$\n",
    "\\displaystyle \\left[\\begin{matrix}1 & 0 & 0 & 0\\\\0 & 1 & 0 & 0\\\\0 & 0 & 0 & 1\\\\0 & 0 & 1 & 0\\end{matrix}\\right]\n",
    "$"
   ]
  },
  {
   "cell_type": "code",
   "execution_count": 60,
   "id": "00ee91ef",
   "metadata": {},
   "outputs": [],
   "source": [
    "cnot = np.array([[1,0,0,0],\n",
    "                 [0,1,0,0],\n",
    "                 [0,0,0,1],\n",
    "                 [0,0,1,0]\n",
    "                ])"
   ]
  },
  {
   "cell_type": "markdown",
   "id": "c75db87c",
   "metadata": {},
   "source": [
    "Examples of cnot for different pairs of q-bits:\n",
    "\n",
    "Note how the first two are unchanged and the second two are flipped."
   ]
  },
  {
   "cell_type": "code",
   "execution_count": 72,
   "id": "51757f78",
   "metadata": {},
   "outputs": [
    {
     "data": {
      "text/latex": [
       "$\\displaystyle \\left[\\begin{matrix}1\\\\0\\\\0\\\\0\\end{matrix}\\right]$"
      ],
      "text/plain": [
       "Matrix([\n",
       "[1],\n",
       "[0],\n",
       "[0],\n",
       "[0]])"
      ]
     },
     "metadata": {},
     "output_type": "display_data"
    },
    {
     "data": {
      "text/latex": [
       "$\\displaystyle \\left[\\begin{matrix}0\\\\1\\\\0\\\\0\\end{matrix}\\right]$"
      ],
      "text/plain": [
       "Matrix([\n",
       "[0],\n",
       "[1],\n",
       "[0],\n",
       "[0]])"
      ]
     },
     "metadata": {},
     "output_type": "display_data"
    },
    {
     "data": {
      "text/latex": [
       "$\\displaystyle \\left[\\begin{matrix}0\\\\0\\\\0\\\\1\\end{matrix}\\right]$"
      ],
      "text/plain": [
       "Matrix([\n",
       "[0],\n",
       "[0],\n",
       "[0],\n",
       "[1]])"
      ]
     },
     "metadata": {},
     "output_type": "display_data"
    },
    {
     "data": {
      "text/latex": [
       "$\\displaystyle \\left[\\begin{matrix}0\\\\0\\\\1\\\\0\\end{matrix}\\right]$"
      ],
      "text/plain": [
       "Matrix([\n",
       "[0],\n",
       "[0],\n",
       "[1],\n",
       "[0]])"
      ]
     },
     "metadata": {},
     "output_type": "display_data"
    }
   ],
   "source": [
    "qb00 = np.tensordot(q0, q0, axes=0).reshape(4)\n",
    "qb01 = np.tensordot(q0, q1, axes=0).reshape(4)\n",
    "qb10 = np.tensordot(q1, q0, axes=0).reshape(4)\n",
    "qb11 = np.tensordot(q1, q1, axes=0).reshape(4)\n",
    "\n",
    "display(sp.Matrix(np.tensordot(cnot, qb00, axes=1)))\n",
    "display(sp.Matrix(np.tensordot(cnot, qb01, axes=1)))\n",
    "display(sp.Matrix(np.tensordot(cnot, qb10, axes=1)))\n",
    "display(sp.Matrix(np.tensordot(cnot, qb11, axes=1)))"
   ]
  },
  {
   "cell_type": "markdown",
   "id": "2b0ffd94",
   "metadata": {},
   "source": [
    "## QBits\n",
    "\n",
    "The classical bit representations so far are special cases of the Q-bit.   \n",
    "\n",
    "QBits are vectors \n",
    "\n",
    "$$\n",
    "\\displaystyle \\left[\\begin{matrix}a\\\\b\\end{matrix}\\right]\n",
    "$$\n",
    "\n",
    "Such that\n",
    "$$ \n",
    "||a||^2 + ||b||^2 = 1 \n",
    "$$\n",
    "\n",
    "* a and b can be complex numbers.\n",
    "* We can now use negative or fractional numbers.\n",
    "\n",
    "The following are example QBit values:\n",
    "\n",
    "$\n",
    "\\displaystyle \\left[\\begin{matrix}\\frac{1}{\\sqrt{2}}\\\\\\frac{1}{\\sqrt{2}}\\end{matrix}\\right]\n",
    "$\n",
    "\n",
    "$\n",
    "\\displaystyle \\left[\\begin{matrix}\\frac{1}{2}\\\\\\frac{1}{\\sqrt[3]{2}}\\end{matrix}\\right]\n",
    "$\n",
    "\n",
    "$\n",
    "\\displaystyle \\left[\\begin{matrix}-1\\\\0\\end{matrix}\\right]\n",
    "$\n",
    "\n",
    "\n",
    "$\n",
    "\\displaystyle \\left[\\begin{matrix}\\frac{1}{\\sqrt{2}}\\\\\\frac{-1}{\\sqrt{2}}\\end{matrix}\\right]\n",
    "$\n",
    "\n",
    "The fractional indicates superposition - partials of $ |1>$ and $ |0> $\n",
    "\n",
    "QBits collapse to $|1>$ with a probability of $ ||a||^2 $ and collapse to $|0>$ with a probability of $ ||b||^2 $\n",
    "\n",
    "The classical \n",
    "\n",
    "$ \\displaystyle \\left[\\begin{matrix}0\\\\1\\end{matrix}\\right] $\n",
    "\n",
    "has 100% chance to collapse to 1 and\n",
    "\n",
    "$ \\displaystyle \\left[\\begin{matrix}1\\\\0\\end{matrix}\\right] $\n",
    "\n",
    "has 100% chance to collapse to 0.\n",
    "\n",
    "As before, multiple QBits are represented by their tensor product."
   ]
  },
  {
   "cell_type": "code",
   "execution_count": 103,
   "id": "492a4ad7",
   "metadata": {},
   "outputs": [
    {
     "data": {
      "text/latex": [
       "$\\displaystyle \\left[\\begin{matrix}a c\\\\a d\\\\b c\\\\b d\\end{matrix}\\right]$"
      ],
      "text/plain": [
       "Matrix([\n",
       "[a*c],\n",
       "[a*d],\n",
       "[b*c],\n",
       "[b*d]])"
      ]
     },
     "execution_count": 103,
     "metadata": {},
     "output_type": "execute_result"
    }
   ],
   "source": [
    "a,b,c,d = sp.symbols(\"a b c d\")\n",
    "TensorProduct(sp.Matrix([a,b]), sp.Matrix([c, d]))"
   ]
  },
  {
   "cell_type": "code",
   "execution_count": 88,
   "id": "f19695fa",
   "metadata": {},
   "outputs": [
    {
     "data": {
      "text/latex": [
       "$\\displaystyle \\left[\\begin{matrix}\\frac{1}{2}\\\\\\frac{1}{2}\\end{matrix}\\right]$"
      ],
      "text/plain": [
       "Matrix([\n",
       "[1/2],\n",
       "[1/2]])"
      ]
     },
     "execution_count": 88,
     "metadata": {},
     "output_type": "execute_result"
    }
   ],
   "source": [
    "sp.Matrix([sp.Rational(1,2), sp.Rational(1/2)])"
   ]
  },
  {
   "cell_type": "code",
   "execution_count": 94,
   "id": "43a72c29",
   "metadata": {},
   "outputs": [
    {
     "data": {
      "text/latex": [
       "$\\displaystyle \\left[\\begin{matrix}-1\\\\0\\end{matrix}\\right]$"
      ],
      "text/plain": [
       "Matrix([\n",
       "[-1],\n",
       "[ 0]])"
      ]
     },
     "execution_count": 94,
     "metadata": {},
     "output_type": "execute_result"
    }
   ],
   "source": [
    "sp.Matrix([-1, 0])"
   ]
  },
  {
   "cell_type": "markdown",
   "id": "5f239169",
   "metadata": {},
   "source": [
    "## Hadamard Gate\n",
    "\n",
    "$\n",
    "\\displaystyle \\left[\\begin{matrix}\\frac{1}{\\sqrt{2}} & \\frac{1}{\\sqrt{2}}\\\\\\frac{1}{\\sqrt{2}} & \\frac{-1}{\\sqrt{2}}\\end{matrix}\\right]\n",
    "$"
   ]
  },
  {
   "cell_type": "code",
   "execution_count": 110,
   "id": "029ef1d7",
   "metadata": {},
   "outputs": [],
   "source": [
    "H = np.array([\n",
    "    [1/np.sqrt(2), 1/np.sqrt(2)], \n",
    "    [1/np.sqrt(2), -1/np.sqrt(2)]\n",
    "])"
   ]
  },
  {
   "cell_type": "markdown",
   "id": "540e35ae",
   "metadata": {},
   "source": [
    "Hadamard gate transitions a classical bit into superposition:"
   ]
  },
  {
   "cell_type": "code",
   "execution_count": 134,
   "id": "2df6f659",
   "metadata": {},
   "outputs": [
    {
     "data": {
      "text/plain": [
       "array([0.70710678, 0.70710678])"
      ]
     },
     "execution_count": 134,
     "metadata": {},
     "output_type": "execute_result"
    }
   ],
   "source": [
    "s0 = np.tensordot(H, q0, axes=1)\n",
    "s0"
   ]
  },
  {
   "cell_type": "markdown",
   "id": "7d3d0267",
   "metadata": {},
   "source": [
    "Note for the $ |1> $ bit, the negative - this ensures the operation\n",
    "is reversible."
   ]
  },
  {
   "cell_type": "code",
   "execution_count": 139,
   "id": "375c10ce",
   "metadata": {},
   "outputs": [
    {
     "data": {
      "text/plain": [
       "array([ 0.70710678, -0.70710678])"
      ]
     },
     "execution_count": 139,
     "metadata": {},
     "output_type": "execute_result"
    }
   ],
   "source": [
    "s1 = np.tensordot(H, q1, axes=1)\n",
    "s1"
   ]
  },
  {
   "cell_type": "markdown",
   "id": "adf87a70",
   "metadata": {},
   "source": [
    "And can transition out of superposition:"
   ]
  },
  {
   "cell_type": "code",
   "execution_count": 140,
   "id": "41090403",
   "metadata": {},
   "outputs": [
    {
     "data": {
      "text/plain": [
       "array([1., 0.])"
      ]
     },
     "execution_count": 140,
     "metadata": {},
     "output_type": "execute_result"
    }
   ],
   "source": [
    "np.tensordot(H, s0, axes=1)"
   ]
  },
  {
   "cell_type": "code",
   "execution_count": 141,
   "id": "79c9b7c9",
   "metadata": {},
   "outputs": [
    {
     "data": {
      "text/plain": [
       "array([0., 1.])"
      ]
     },
     "execution_count": 141,
     "metadata": {},
     "output_type": "execute_result"
    }
   ],
   "source": [
    "np.tensordot(H, s1, axes=1)"
   ]
  },
  {
   "cell_type": "code",
   "execution_count": null,
   "id": "12a3deaa",
   "metadata": {},
   "outputs": [],
   "source": []
  }
 ],
 "metadata": {
  "kernelspec": {
   "display_name": "Python 3 (ipykernel)",
   "language": "python",
   "name": "python3"
  },
  "language_info": {
   "codemirror_mode": {
    "name": "ipython",
    "version": 3
   },
   "file_extension": ".py",
   "mimetype": "text/x-python",
   "name": "python",
   "nbconvert_exporter": "python",
   "pygments_lexer": "ipython3",
   "version": "3.9.4"
  }
 },
 "nbformat": 4,
 "nbformat_minor": 5
}
